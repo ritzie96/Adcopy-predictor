{
 "cells": [
  {
   "cell_type": "code",
   "execution_count": 7,
   "metadata": {},
   "outputs": [
    {
     "name": "stdout",
     "output_type": "stream",
     "text": [
      "The autoreload extension is already loaded. To reload it, use:\n",
      "  %reload_ext autoreload\n"
     ]
    }
   ],
   "source": [
    "import pandas as pd\n",
    "import random\n",
    "import os\n",
    "import numpy as np\n",
    "import matplotlib.pyplot as plt\n",
    "import string\n",
    "import re\n",
    "from nltk.tokenize import word_tokenize\n",
    "from nltk.corpus import stopwords\n",
    "from nltk.stem import WordNetLemmatizer\n",
    "from sklearn.feature_extraction.text import TfidfVectorizer, CountVectorizer\n",
    "from sklearn.manifold import TSNE\n",
    "from sklearn.preprocessing import Imputer \n",
    "from sklearn.ensemble import RandomForestRegressor \n",
    "from sklearn import model_selection\n",
    "from sklearn import metrics\n",
    "from textblob import TextBlob\n",
    "import pickle\n",
    "from sklearn.externals import joblib\n",
    "from scipy.stats import spearmanr, pearsonr\n",
    "from sklearn.manifold import TSNE\n",
    "#from bokeh.plotting import figure, show\n",
    "#from bokeh.io import push_notebook, output_notebook\n",
    "#from bokeh.models import ColumnDataSource, LabelSet\n",
    "%load_ext autoreload\n",
    "%autoreload 2\n",
    "%matplotlib inline\n",
    "from random import randint\n",
    "from bokeh.io import push_notebook, show, output_notebook\n",
    "from bokeh.plotting import figure\n",
    "from bokeh.models import ColumnDataSource, LabelSet\n",
    "import gensim\n",
    "#output_notebook()"
   ]
  },
  {
   "cell_type": "code",
   "execution_count": 3,
   "metadata": {
    "scrolled": false
   },
   "outputs": [],
   "source": [
    "dat = pd.read_csv('/Users/rithika/Documents/247ai/Hello Fresh_2018-05-01_2018-05-31_UK.csv')"
   ]
  },
  {
   "cell_type": "markdown",
   "metadata": {},
   "source": [
    "# Data cleaning"
   ]
  },
  {
   "cell_type": "code",
   "execution_count": 3,
   "metadata": {},
   "outputs": [],
   "source": [
    "#cleaning input data to get predictor values and target\n",
    "def prepare_data(fname):\n",
    "    filename = os.path.join('/Users/rithika/Documents/247ai/datasets', fname)\n",
    "    if os.path.isfile(filename):\n",
    "        dat = pd.read_csv(filename)\n",
    "    else:\n",
    "        print(\"no such file exists at this time\")\n",
    "    dat['Adcopy']=dat['Headline 1']+' '+dat['Headline 2']+' '+dat['Description']\n",
    "    dat = dat[['Adcopy','Clicks']]\n",
    "    dat = dat[pd.notnull(dat['Adcopy'])]\n",
    "    dat['Adcopy'] = dat['Adcopy'].replace('http\\S+|www.\\S+', '', regex=True)\n",
    "    dat['Adcopy'].replace('[™!®\"#\\'()*+,-./:;<=>?@\\&[\\]^_`{|}~’”“′‘\\\\\\%0123456789£]',' ',inplace=True,regex=True)\n",
    "    dat['Adcopy'].replace('  ',' ',inplace=True,regex=True)\n",
    "    dat['Adcopy'].replace('   ',' ',inplace=True,regex=True)\n",
    "    dat['Adcopy'].replace('  ',' ',inplace=True,regex=True)\n",
    "    dat['Adcopy'] = dat['Adcopy'].str.lower()\n",
    "    #stemmer = PorterStemmer()\n",
    "    wordnet_lemmatizer = WordNetLemmatizer()\n",
    "    stop = stopwords.words('english')\n",
    "    dat['Adcopy'] = dat['Adcopy'].apply(lambda x: ' '.join([wordnet_lemmatizer.lemmatize(str(word)) for word in x.split()]))\n",
    "    #dat['cle'] = dat['Adcopy'].apply(lambda x: ' '.join([stemmer.stem(str(word)) for word in x.split()]))\n",
    "    dat['Copy'] = dat['Adcopy'].apply(lambda x: ' '.join([word for word in x.split() if word not in (stop)]))\n",
    "    return dat[['Copy','Clicks']]"
   ]
  },
  {
   "cell_type": "code",
   "execution_count": 4,
   "metadata": {},
   "outputs": [],
   "source": [
    "#data = prepare_data('Hello Fresh_2018-05-01_2018-05-31_UK.csv')"
   ]
  },
  {
   "cell_type": "code",
   "execution_count": 5,
   "metadata": {},
   "outputs": [],
   "source": [
    "data = prepare_data('Digitonomy_2018-06-01_2018-06-30.csv')"
   ]
  },
  {
   "cell_type": "code",
   "execution_count": 8,
   "metadata": {},
   "outputs": [],
   "source": [
    "#getting unique values \n",
    "datum = data.groupby('Copy')['Clicks'].mean().reset_index()\n",
    "#datum = data.groupby('Copy')['Clicks'].sum().reset_index()\n",
    "#spellcorrector - takes really long time\n",
    "#datum['Copy'] = datum['Copy'].apply(lambda s: TextBlob(s).correct()) #already being done when calculating vectors to reduce cpu usage\n",
    "datu = datum.groupby('Copy')['Clicks'].mean().reset_index()\n",
    "cleaned_data = datu['Copy'] #predictor values\n",
    "result = datu['Clicks'] #target"
   ]
  },
  {
   "cell_type": "code",
   "execution_count": 9,
   "metadata": {},
   "outputs": [
    {
     "data": {
      "text/plain": [
       "16991"
      ]
     },
     "execution_count": 9,
     "metadata": {},
     "output_type": "execute_result"
    }
   ],
   "source": [
    "len(cleaned_data)"
   ]
  },
  {
   "cell_type": "code",
   "execution_count": 15,
   "metadata": {},
   "outputs": [
    {
     "data": {
      "text/plain": [
       "16991"
      ]
     },
     "execution_count": 15,
     "metadata": {},
     "output_type": "execute_result"
    }
   ],
   "source": [
    "len(a)"
   ]
  },
  {
   "cell_type": "markdown",
   "metadata": {},
   "source": [
    "# Word2vec analysis"
   ]
  },
  {
   "cell_type": "code",
   "execution_count": 16,
   "metadata": {},
   "outputs": [],
   "source": [
    "#loading googlenews vec\n",
    "model = gensim.models.KeyedVectors.load_word2vec_format('/Users/rithika/Documents/247ai/GoogleNews-vectors-negative300.bin', binary=True)"
   ]
  },
  {
   "cell_type": "code",
   "execution_count": 17,
   "metadata": {},
   "outputs": [
    {
     "name": "stdout",
     "output_type": "stream",
     "text": [
      "130\n",
      "['a', 'fastcheck', 'anygator', 'aoneloans', 'quickcheck', 'unfordable', 'autoloans', 'specialise', 'catalogue', 'natychmiastowa', 'decyzja', 'gotówka', 'aplikuj', 'cleverloans', 'creditloans', 'balmoral', 'bambooloans', 'besthort', 'bestloans', 'blackheath', 'bluesea', 'booyacasha', 'centre', 'corydon', 'to', 'callcredit', 'cardsmart', 'cashadvance', 'cashadvances', 'cashboost', 'cashconverter', 'cashflex', 'cashfloat', 'cashloans', 'cashnetusa', 'cashngo', 'cheaploans', 'grm', 'miesięcy', 'creditscore', 'dailyloan', 'digitonomy', 'experian', 'eyford', 'flexcash', 'livecheck', 'eligibity', 'kabayan', 'kredytbank', 'kredyty', 'ladderloans', 'ladyloans', 'liquidloans', 'gurantor', 'barrington', 'fordham', 'fortudent', 'gloucester', 'middlesbrough', 'grimesby', 'pachy', 'safetynet', 'tydfil', 'scunthorpe', 'skelmersdale', 'stockport', 'organise', 'walsall', 'oldtudents', 'loanmatch', 'loanonaphone', 'loansathome', 'luzon', 'microlend', 'minicredit', 'mobilequid', 'moneybarn', 'moneyloans', 'moneyway', 'monthloans', 'moorcroft', 'motonovo', 'murat', 'nemoloans', 'nextloans', 'northgate', 'of', 'pirie', 'perfectmoney', 'platino', 'pogoloans', 'polskie', 'chwilowki', 'pozyczki', 'pozyczka', 'zaswiadczen', 'gotowkowa', 'najlepiej', 'polakow', 'pożyczka', 'pożyczki', 'akceptowane', 'quickcash', 'quickloans', 'quidquid', 'ramsdens', 'safeloans', 'sainsbury', 'hasssle', 'shoppacheck', 'skylinedirect', 'fortudents', 'smallloans', 'spotloan', 'starloans', 'szybka', 'textloan', 'textloans', 'thequickcashclub', 'toothfairy', 'totalloans', 'txtaloan', 'txtloans', 'uhlans', 'varix', 'vivaloans', 'weluvloans', 'wentworth', 'whizz', 'loansdirect']\n"
     ]
    }
   ],
   "source": [
    "#prints words from the dataset which is not present in google news vec\n",
    "nokey = list()\n",
    "for sentence in cleaned_data:\n",
    "    for word in sentence.split(' '): \n",
    "        if word not in model:\n",
    "            if word not in nokey:\n",
    "                nokey.append(word)\n",
    "                \n",
    "print(len(nokey))\n",
    "print(nokey)"
   ]
  },
  {
   "cell_type": "code",
   "execution_count": 20,
   "metadata": {},
   "outputs": [],
   "source": [
    "# a list of random float values within a range\n",
    "def sample_floats(low, high, k=1):\n",
    "    result = []\n",
    "    seen = set()\n",
    "    for i in range(k):\n",
    "        x = random.uniform(low, high)\n",
    "        while x in seen:\n",
    "            x = random.uniform(low, high)\n",
    "        seen.add(x)\n",
    "        result.append(x)\n",
    "    return result"
   ]
  },
  {
   "cell_type": "code",
   "execution_count": 21,
   "metadata": {},
   "outputs": [],
   "source": [
    "#generates vector array for words not in googlenews vec\n",
    "def gen_arr():\n",
    "    c = [0] * 300\n",
    "    dup = sample_floats(-0.001, 0.001, 300)\n",
    "    r = np.random.randint(5, 30)\n",
    "    for i in range(r):\n",
    "        ind = np.random.randint(0, len(c) - 1)\n",
    "        c[ind] = np.random.choice(dup)\n",
    "    return c "
   ]
  },
  {
   "cell_type": "code",
   "execution_count": 22,
   "metadata": {},
   "outputs": [],
   "source": [
    "#getting the words not present in google model\n",
    "def get_valvec(data):\n",
    "    nokey = list()\n",
    "    my_dict = {}\n",
    "    for sentence in data:\n",
    "        for word in sentence.split(' '): \n",
    "            if word not in model: \n",
    "                if word not in nokey: #for words not present    \n",
    "                    nokey.append(word)\n",
    "                    ne = gen_arr()\n",
    "                    my_dict[word] = ne\n",
    "    return my_dict"
   ]
  },
  {
   "cell_type": "code",
   "execution_count": 23,
   "metadata": {},
   "outputs": [],
   "source": [
    "#dictionary of words not present in google with their vecs \n",
    "extra_vec = get_valvec(cleaned_data)"
   ]
  },
  {
   "cell_type": "code",
   "execution_count": 24,
   "metadata": {},
   "outputs": [
    {
     "data": {
      "text/plain": [
       "300"
      ]
     },
     "execution_count": 24,
     "metadata": {},
     "output_type": "execute_result"
    }
   ],
   "source": [
    "len(extra_vec['fortudents'])"
   ]
  },
  {
   "cell_type": "code",
   "execution_count": 25,
   "metadata": {},
   "outputs": [],
   "source": [
    "#getting feature vectors for hello fresh\n",
    "def get_vectors(data):\n",
    "    in_arr = []\n",
    "    for sentence in data:\n",
    "        n_arr = []\n",
    "        for word in sentence.split(' '): \n",
    "            arr = []\n",
    "            try:\n",
    "                for single in model[word]:\n",
    "                    arr.append(single)\n",
    "            except ValueError:\n",
    "                print(\"Value error\")\n",
    "            except KeyError:\n",
    "                n_w = word.title()\n",
    "                nn_w = textblob.Word(word).correct()\n",
    "                if n_w in model:\n",
    "                    try:\n",
    "                        for single in model[n_w]:\n",
    "                            arr.append(single)\n",
    "                    except ValueError:\n",
    "                        print(\"Value error\")\n",
    "                elif nn_w in model:\n",
    "                    try:\n",
    "                        for single in model[nn_w]:\n",
    "                            arr.append(single)\n",
    "                    except ValueError:\n",
    "                        print(\"Value error\")\n",
    "                else:\n",
    "                    v = extra_vec.get(word)\n",
    "                    for i in v:\n",
    "                        arr.append(i)\n",
    "            n_arr.append(arr)\n",
    "            arry = []\n",
    "            arry = np.sum(n_arr,axis=0)\n",
    "        in_arr.append(arry)   \n",
    "    return in_arr"
   ]
  },
  {
   "cell_type": "code",
   "execution_count": 26,
   "metadata": {},
   "outputs": [],
   "source": [
    "res = get_vectors(cleaned_data)"
   ]
  },
  {
   "cell_type": "code",
   "execution_count": 27,
   "metadata": {},
   "outputs": [
    {
     "data": {
      "text/plain": [
       "16991"
      ]
     },
     "execution_count": 27,
     "metadata": {},
     "output_type": "execute_result"
    }
   ],
   "source": [
    "len(res)"
   ]
  },
  {
   "cell_type": "code",
   "execution_count": 28,
   "metadata": {},
   "outputs": [
    {
     "data": {
      "text/plain": [
       "300"
      ]
     },
     "execution_count": 28,
     "metadata": {},
     "output_type": "execute_result"
    }
   ],
   "source": [
    "len(res[0])"
   ]
  },
  {
   "cell_type": "code",
   "execution_count": 29,
   "metadata": {},
   "outputs": [],
   "source": [
    "def interactive_tsne(text_labels, en_coded):\n",
    "    '''makes an interactive scatter plot with text labels for each point'''\n",
    "\n",
    "    tsne = TSNE(n_components=2)\n",
    "    X_tsne = tsne.fit_transform(en_coded)\n",
    "\n",
    "    plt.rcParams['figure.figsize'] = [10, 10]\n",
    "    plt.scatter(X_tsne[:, 0], X_tsne[:, 1])\n",
    "    plt.show()"
   ]
  },
  {
   "cell_type": "code",
   "execution_count": 30,
   "metadata": {},
   "outputs": [
    {
     "data": {
      "image/png": "[encoded data removed]",
      "text/plain": [
       "<Figure size 720x720 with 1 Axes>"
      ]
     },
     "metadata": {},
     "output_type": "display_data"
    }
   ],
   "source": [
    "interactive_tsne(a,res)"
   ]
  },
  {
   "cell_type": "code",
   "execution_count": 31,
   "metadata": {},
   "outputs": [],
   "source": [
    "x = np.array(res).tolist()\n",
    "X = np.array(x)\n",
    "y = np.array(result)"
   ]
  },
  {
   "cell_type": "code",
   "execution_count": 32,
   "metadata": {},
   "outputs": [
    {
     "data": {
      "text/plain": [
       "array([[ 0.78378296,  0.40722656, -0.47625732, ...,  0.20324707,\n",
       "        -0.36560822, -0.76379395],\n",
       "       [ 0.79159546,  0.64257812, -0.44500732, ...,  0.36376953,\n",
       "        -0.34125519, -0.90673828],\n",
       "       [ 0.72065735,  0.41113281, -0.58270264, ...,  0.29833984,\n",
       "        -0.42554474, -0.58154297],\n",
       "       ...,\n",
       "       [-0.17807007,  0.0524292 , -0.36889648, ...,  0.74804688,\n",
       "        -1.00177002, -0.20336914],\n",
       "       [-0.2515564 ,  0.22424316, -0.20904541, ...,  0.56616211,\n",
       "        -0.95465851, -0.71386719],\n",
       "       [-0.2833252 ,  0.29620361,  0.78289795, ...,  0.01556396,\n",
       "        -0.28823853,  0.39294434]])"
      ]
     },
     "execution_count": 32,
     "metadata": {},
     "output_type": "execute_result"
    }
   ],
   "source": [
    "X"
   ]
  },
  {
   "cell_type": "code",
   "execution_count": 33,
   "metadata": {},
   "outputs": [
    {
     "data": {
      "text/plain": [
       "array([0.        , 0.        , 0.        , ..., 0.33333333, 0.        ,\n",
       "       0.        ])"
      ]
     },
     "execution_count": 33,
     "metadata": {},
     "output_type": "execute_result"
    }
   ],
   "source": [
    "y"
   ]
  },
  {
   "cell_type": "code",
   "execution_count": 34,
   "metadata": {},
   "outputs": [
    {
     "data": {
      "text/plain": [
       "(16991, 300)"
      ]
     },
     "execution_count": 34,
     "metadata": {},
     "output_type": "execute_result"
    }
   ],
   "source": [
    "X.shape"
   ]
  },
  {
   "cell_type": "code",
   "execution_count": 35,
   "metadata": {},
   "outputs": [
    {
     "data": {
      "text/plain": [
       "(16991,)"
      ]
     },
     "execution_count": 35,
     "metadata": {},
     "output_type": "execute_result"
    }
   ],
   "source": [
    "y.shape"
   ]
  },
  {
   "cell_type": "markdown",
   "metadata": {},
   "source": [
    "# 5-fold cross validation"
   ]
  },
  {
   "cell_type": "code",
   "execution_count": 36,
   "metadata": {},
   "outputs": [
    {
     "name": "stdout",
     "output_type": "stream",
     "text": [
      "KFold(n_splits=5, random_state=None, shuffle=False)\n"
     ]
    }
   ],
   "source": [
    "#kfold\n",
    "kf = model_selection.KFold(n_splits=5) \n",
    "kf.get_n_splits(X)\n",
    "print(kf) "
   ]
  },
  {
   "cell_type": "code",
   "execution_count": 37,
   "metadata": {},
   "outputs": [],
   "source": [
    "#creating instance of RFRegressor \n",
    "model1 = RandomForestRegressor(n_estimators=500,max_features='log2',n_jobs=-1,min_samples_leaf=60)"
   ]
  },
  {
   "cell_type": "code",
   "execution_count": 38,
   "metadata": {},
   "outputs": [],
   "source": [
    "#cross val score\n",
    "#scores = model_selection.cross_val_score(model1, X, y, cv = 5, scoring ='neg_mean_squared_error')\n",
    "#print(scores)"
   ]
  },
  {
   "cell_type": "code",
   "execution_count": 39,
   "metadata": {},
   "outputs": [],
   "source": [
    "#cross val split with score and r2\n",
    "for train_index, test_index in kf.split(X):\n",
    "    #print('TRAIN:', train_index, 'TEST:', test_index)\n",
    "    X_train, X_test = X[train_index], X[test_index]\n",
    "    y_train, y_test = y[train_index], y[test_index]"
   ]
  },
  {
   "cell_type": "code",
   "execution_count": 40,
   "metadata": {},
   "outputs": [
    {
     "data": {
      "text/plain": [
       "RandomForestRegressor(bootstrap=True, criterion='mse', max_depth=None,\n",
       "           max_features='log2', max_leaf_nodes=None,\n",
       "           min_impurity_decrease=0.0, min_impurity_split=None,\n",
       "           min_samples_leaf=60, min_samples_split=2,\n",
       "           min_weight_fraction_leaf=0.0, n_estimators=500, n_jobs=-1,\n",
       "           oob_score=False, random_state=None, verbose=0, warm_start=False)"
      ]
     },
     "execution_count": 40,
     "metadata": {},
     "output_type": "execute_result"
    }
   ],
   "source": [
    "#training\n",
    "model1.fit(X_train, y_train)"
   ]
  },
  {
   "cell_type": "code",
   "execution_count": 41,
   "metadata": {},
   "outputs": [],
   "source": [
    "#evaluating\n",
    "y_pred = model1.predict(X_test)"
   ]
  },
  {
   "cell_type": "code",
   "execution_count": 46,
   "metadata": {},
   "outputs": [
    {
     "name": "stdout",
     "output_type": "stream",
     "text": [
      "Test data Spearman correlation: 0.101\n",
      "Test data pearson correlation: 0.084\n"
     ]
    }
   ],
   "source": [
    "#monotonic relationship as the relation between the variables is non linear\n",
    "spearman = spearmanr(y_test, y_pred)\n",
    "pearson = pearsonr(y_test, y_pred)\n",
    "print(f'Test data Spearman correlation: {spearman[0]:.3}')\n",
    "print(f'Test data pearson correlation: {pearson[0]:.3}')"
   ]
  },
  {
   "cell_type": "code",
   "execution_count": 48,
   "metadata": {},
   "outputs": [
    {
     "name": "stdout",
     "output_type": "stream",
     "text": [
      "MSE\n",
      "2.951052999586395\n",
      "R2\n",
      "0.002872053449012313\n",
      "MAE\n",
      "0.4152644667776113\n",
      "Variance Score\n",
      "0.005028402585720015\n"
     ]
    }
   ],
   "source": [
    "print('MSE')\n",
    "print(metrics.mean_squared_error(y_test, y_pred)) #mean square error\n",
    "print('R2')\n",
    "print(metrics.r2_score(y_test, y_pred)) #r2 score\n",
    "print('MAE')\n",
    "print(metrics.mean_absolute_error(y_test, y_pred)) #mae\n",
    "print('Variance Score')\n",
    "print(metrics.explained_variance_score(y_test, y_pred)) #mape"
   ]
  },
  {
   "cell_type": "code",
   "execution_count": null,
   "metadata": {},
   "outputs": [],
   "source": []
  }
 ],
 "metadata": {
  "kernelspec": {
   "display_name": "Python 3",
   "language": "python",
   "name": "python3"
  },
  "language_info": {
   "codemirror_mode": {
    "name": "ipython",
    "version": 3
   },
   "file_extension": ".py",
   "mimetype": "text/x-python",
   "name": "python",
   "nbconvert_exporter": "python",
   "pygments_lexer": "ipython3",
   "version": "3.6.5"
  }
 },
 "nbformat": 4,
 "nbformat_minor": 2
}
