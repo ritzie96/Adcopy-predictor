{
 "cells": [
  {
   "cell_type": "code",
   "execution_count": 27,
   "metadata": {},
   "outputs": [],
   "source": [
    "import pandas as pd\n",
    "import random\n",
    "from numpy import NaN\n",
    "import os\n",
    "import pandas as pd\n",
    "import numpy as np\n",
    "import matplotlib.pyplot as plt\n",
    "import string\n",
    "import re\n",
    "import nltk\n",
    "from nltk.tokenize import word_tokenize\n",
    "from nltk.corpus import stopwords\n",
    "from nltk.stem import WordNetLemmatizer\n",
    "from sklearn.feature_extraction.text import TfidfVectorizer, CountVectorizer\n",
    "from sklearn.manifold import TSNE\n",
    "from sklearn.preprocessing import Imputer \n",
    "from sklearn.ensemble import RandomForestRegressor \n",
    "from sklearn import model_selection\n",
    "from sklearn import metrics\n",
    "import textblob\n",
    "import pickle\n",
    "from sklearn.externals import joblib\n",
    "wordnet_lemmatizer = WordNetLemmatizer()\n",
    "stop = stopwords.words('english')"
   ]
  },
  {
   "cell_type": "markdown",
   "metadata": {},
   "source": [
    "# cleaning data"
   ]
  },
  {
   "cell_type": "code",
   "execution_count": 115,
   "metadata": {},
   "outputs": [],
   "source": [
    "#cleaning input data to get predictor values and target\n",
    "def prepare_data(fname):\n",
    "    filename = os.path.join('/Users/rithika/Documents/247ai/datasets', fname)\n",
    "    if os.path.isfile(filename):\n",
    "        dat = pd.read_csv(filename)\n",
    "    else:\n",
    "        print(\"no such file exists at this time\")\n",
    "    dat['Adcopy']=dat['Headline 1']+' '+dat['Headline 2']+' '+dat['Description']\n",
    "    #dat['Adcopy'] = dat['Description']\n",
    "    dat = dat[['Adcopy','Clicks']]\n",
    "    dat = dat[pd.notnull(dat['Adcopy'])]\n",
    "    dat['Adcopy'] = dat['Adcopy'].replace('http\\S+|www.\\S+', '', regex=True)\n",
    "    dat['Adcopy'].replace('[™!®\"#\\'©()*+,-./:;<=>?@\\&[\\]^_`{|}~’”“′‘\\\\\\%0123456789£]',' ',inplace=True,regex=True)\n",
    "    dat['Adcopy'].replace('  ',' ',inplace=True,regex=True)\n",
    "    dat['Adcopy'].replace('   ',' ',inplace=True,regex=True)\n",
    "    dat['Adcopy'].replace('  ',' ',inplace=True,regex=True)\n",
    "    dat['Adcopy'] = dat['Adcopy'].str.lower()\n",
    "    dat['Adcopy'] = dat['Adcopy'].apply(lambda x: ' '.join([wordnet_lemmatizer.lemmatize(str(word)) for word in x.split()]))\n",
    "    dat['Copy'] = dat['Adcopy'].apply(lambda x: ' '.join([word for word in x.split() if word not in (stop)]))\n",
    "    data = dat[['Copy','Clicks']]\n",
    "    datum = data.groupby('Copy')['Clicks'].mean().reset_index()\n",
    "    print(len(datum))\n",
    "    return datum"
   ]
  },
  {
   "cell_type": "code",
   "execution_count": 117,
   "metadata": {},
   "outputs": [
    {
     "name": "stdout",
     "output_type": "stream",
     "text": [
      "17074\n"
     ]
    }
   ],
   "source": [
    "data = prepare_data('Digitonomy_2018-06-01_2018-06-30.csv')"
   ]
  },
  {
   "cell_type": "code",
   "execution_count": 118,
   "metadata": {},
   "outputs": [],
   "source": [
    "#getting unique values \n",
    "datum = data.groupby('Copy')['Clicks'].mean().reset_index()\n",
    "cleaned_data = datum['Copy'].tolist() #predictor values\n",
    "result = datum['Clicks'] #target"
   ]
  },
  {
   "cell_type": "code",
   "execution_count": 120,
   "metadata": {},
   "outputs": [
    {
     "data": {
      "text/plain": [
       "17074"
      ]
     },
     "execution_count": 120,
     "metadata": {},
     "output_type": "execute_result"
    }
   ],
   "source": [
    "len(cleaned_data)"
   ]
  },
  {
   "cell_type": "code",
   "execution_count": 121,
   "metadata": {},
   "outputs": [
    {
     "data": {
      "text/plain": [
       "17074"
      ]
     },
     "execution_count": 121,
     "metadata": {},
     "output_type": "execute_result"
    }
   ],
   "source": [
    "len(result)"
   ]
  },
  {
   "cell_type": "markdown",
   "metadata": {},
   "source": [
    "# creating BOW with TF-IDF vectors"
   ]
  },
  {
   "cell_type": "code",
   "execution_count": 122,
   "metadata": {},
   "outputs": [],
   "source": [
    "# create the transform\n",
    "vectorizer = TfidfVectorizer()\n",
    "# tokenize and build vocab\n",
    "vec_train = vectorizer.fit_transform(cleaned_data)\n",
    "#Save vectorizer.vocabulary_\n",
    "pickle.dump(vectorizer,open(\"feature_bow.pkl\",\"wb\"))\n",
    "# encode document\n",
    "#vector = vectorizer.transform(cleaned_data)\n",
    "X = np.array(vec_train.toarray())\n",
    "y = np.array(result)"
   ]
  },
  {
   "cell_type": "code",
   "execution_count": 123,
   "metadata": {},
   "outputs": [
    {
     "name": "stdout",
     "output_type": "stream",
     "text": [
      "{'acceptance': 2, 'loan': 640, 'apply': 52, 'free': 443, 'clever': 226, 'instant': 540, 'decision': 297, 'month': 744, 'rep': 1009, 'apr': 59, 'mobile': 732, 'access': 4, 'fast': 401, 'money': 737, 'average': 78, 'second': 1069, 'simply': 1098, 'online': 829, 'today': 1253, 'choose': 221, 'term': 1232, 'borrow': 135, 'fuss': 455, 'top': 1260, 'asset': 71, 'funding': 453, 'get': 464, 'finance': 407, 'quote': 972, 'fund': 451, 'industry': 535, 'competitive': 250, 'business': 162, 'deal': 294, 'financing': 410, 'quickly': 966, 'compare': 244, 'low': 669, 'rate': 981, 'best': 104, 'action': 8, 'credit': 279, 'history': 508, 'considered': 254, 'simple': 1097, 'application': 51, 'form': 436, 'help': 499, 'find': 412, 'right': 1030, 'accepted': 3, 'people': 878, 'would': 1377, 'recommend': 990, 'high': 504, 'approval': 56, 'ever': 377, 'advance': 12, 'approved': 57, 'advent': 13, 'uk': 1293, 'minute': 727, 'cash': 185, 'sent': 1080, 'min': 719, 'quick': 960, 'adverse': 14, 'score': 1057, 'welcome': 1344, 'eligibility': 359, 'check': 214, 'upto': 1304, 'previous': 933, 'needed': 789, 'personal': 883, 'development': 310, 'biggest': 113, 'list': 630, 'lender': 607, 'whole': 1351, 'market': 689, 'exclusive': 383, 'offer': 818, 'discover': 323, 'affiliate': 17, 'affordability': 18, 'affordable': 19, 'lowest': 671, 'available': 77, 'perfect': 881, 'calculate': 168, 'tablet': 1205, 'superbike': 1188, 'agent': 21, 'collected': 235, 'door': 329, 'charge': 208, 'fee': 405, 'agricultural': 24, 'leading': 598, 'new': 795, 'equipment': 373, 'start': 1149, 'ups': 1303, 'solution': 1127, 'cashflow': 192, 'award': 79, 'winning': 1356, 'need': 788, 'machinery': 678, 'agriculture': 25, 'comparison': 248, 'site': 1101, 'always': 34, 'preserve': 930, 'working': 1373, 'capital': 177, 'tailored': 1206, 'package': 843, 'expert': 386, 'aim': 26, 'alone': 31, 'fastcheck': 402, 'tool': 1257, 'past': 854, 'necessary': 787, 'one': 828, 'alpha': 32, 'lend': 606, 'alternative': 33, 'better': 107, 'option': 834, 'huge': 520, 'range': 977, 'featuring': 404, 'energy': 371, 'guaranteed': 486, 'beat': 98, 'renewal': 1005, 'give': 466, 'save': 1051, 'guarantee': 485, 'beating': 99, 'company': 242, 'till': 1245, 'payday': 858, 'never': 794, 'logbook': 654, 'pay': 856, 'day': 293, 'bad': 87, 'little': 632, 'com': 237, 'could': 271, 'join': 557, 'customer': 286, 'found': 441, 'every': 378, 'try': 1281, 'see': 1074, 'much': 769, 'amerigo': 36, 'amiga': 37, 'anygator': 41, 'aone': 44, 'aoneloans': 45, 'review': 1028, 'aplly': 49, 'apple': 50, 'quickcheck': 962, 'service': 1081, 'learn': 600, 'trusted': 1279, 'account': 5, 'open': 832, 'bank': 93, 'ease': 346, 'banking': 94, 'interview': 547, 'set': 1082, 'checker': 215, 'pc': 866, 'card': 180, 'direct': 317, 'emergency': 366, 'first': 416, 'hour': 516, 'payout': 864, 'sec': 1068, 'million': 718, 'helped': 500, 'guarantor': 487, 'desktop': 307, 'trustd': 1278, 'home': 511, 'flexible': 424, 'obligation': 815, 'phone': 887, 'poor': 918, 'easily': 347, 'friendly': 446, 'website': 1338, 'smartphone': 1117, 'multiple': 772, 'short': 1092, 'sunday': 1183, 'phd': 886, 'small': 1113, 'must': 777, 'trading': 1268, 'student': 1173, 'year': 1379, 'consolidate': 255, 'debt': 296, 'step': 1157, 'take': 1207, 'control': 260, 'unsecured': 1300, 'hassle': 496, 'strongly': 1171, 'recommeneded': 992, 'provided': 949, 'weekend': 1342, 'without': 1360, 'applying': 53, 'calculator': 171, 'apricot': 61, 'artic': 65, 'device': 311, 'arundel': 66, 'asda': 68, 'ask': 70, 'backed': 86, 'provider': 950, 'lending': 608, 'based': 96, 'uncover': 1298, 'broker': 150, 'transparent': 1272, 'straight': 1166, 'edinburgh': 350, 'leasing': 602, 'scotland': 1059, 'software': 1124, 'type': 1292, 'fixed': 419, 'payment': 861, 'management': 685, 'atm': 73, 'auto': 74, 'pawn': 855, 'title': 1249, 'autoloans': 75, 'av': 76, 'interest': 544, 'awful': 81, 'az': 83, 'babk': 84, 'back': 85, 'track': 1265, 'car': 178, 'footprint': 433, 'cost': 269, 'bike': 114, 'overdraft': 841, 'facility': 392, 'switching': 1203, 'sme': 1118, 'process': 941, 'switch': 1201, 'saving': 1052, 'monthly': 746, 'priced': 935, 'specialise': 1134, 'ready': 984, 'like': 618, 'buy': 165, 'lease': 601, 'alernative': 28, 'catalog': 199, 'consolidation': 256, 'current': 285, 'natychmiastowa': 784, 'decyzja': 300, 'gotówka': 477, 'muntes': 776, 'aplikuj': 48, 'teraz': 1231, 'cleverloans': 227, 'easy': 349, 'equity': 374, 'aprc': 60, 'buyer': 166, 'owner': 842, 'homeowner': 513, 'tenant': 1230, 'mortgage': 756, 'holder': 509, 'installment': 538, 'suit': 1180, 'instalment': 539, 'lians': 613, 'line': 626, 'ok': 822, 'brighter': 145, 'way': 1336, 'wont': 1369, 'affect': 16, 'choice': 220, 'dont': 328, 'glasgow': 467, 'weekly': 1343, 'scooter': 1056, 'different': 314, 'watch': 1335, 'long': 660, 'motorcycle': 764, 'non': 803, 'onlines': 830, 'benefit': 102, 'rating': 982, 'record': 993, 'secure': 1071, 'secured': 1072, 'kitchen': 568, 'two': 1286, 'creditloans': 280, 'baler': 89, 'balmoral': 90, 'bamboo': 91, 'bambooloans': 92, 'limited': 625, 'self': 1077, 'employed': 367, 'startup': 1154, 'within': 1359, 'smart': 1115, 'freelancer': 445, 'sole': 1126, 'trader': 1267, 'basic': 97, 'bee': 100, 'berry': 103, 'great': 480, 'fit': 417, 'mnths': 731, 'active': 9, 'contractor': 259, 'bill': 115, 'discounting': 322, 'invoice': 550, 'discount': 321, 'boat': 127, 'commercial': 240, 'instantly': 541, 'builder': 155, 'building': 156, 'product': 942, 'borrowing': 138, 'electric': 353, 'price': 934, 'cheapest': 212, 'supplier': 1192, 'electricity': 355, 'plan': 902, 'gas': 457, 'woman': 1365, 'power': 923, 'utility': 1312, 'cheap': 210, 'chipper': 219, 'corporate': 266, 'developer': 309, 'digger': 315, 'excavator': 382, 'farm': 398, 'flow': 428, 'holiday': 510, 'improvement': 527, 'hotel': 515, 'factoring': 394, 'confidential': 253, 'improve': 526, 'laons': 587, 'ltd': 672, 'good': 473, 'search': 1066, 'machine': 677, 'status': 1156, 'none': 804, 'partnership': 853, 'place': 900, 'plant': 903, 'property': 947, 'pub': 953, 'public': 954, 'liability': 612, 'cover': 274, 'insurance': 543, 'full': 450, 'renovation': 1006, 'cheaper': 211, 'finding': 414, 'technology': 1220, 'tipper': 1248, 'turbine': 1282, 'tariff': 1212, 'value': 1314, 'warehouse': 1333, 'besthort': 105, 'bestloans': 106, 'bicycle': 110, 'big': 111, 'billboa': 116, 'birmingham': 117, 'birthday': 118, 'black': 120, 'diamond': 313, 'blackheath': 121, 'blimey': 124, 'blue': 125, 'letter': 611, 'sea': 1065, 'bluesea': 126, 'bolton': 129, 'croydon': 283, 'bonga': 131, 'booyacasha': 134, 'may': 697, 'flex': 421, 'centre': 204, 'comparing': 247, 'saturday': 1050, 'go': 470, 'highly': 507, 'use': 1308, 'purpose': 956, 'foot': 432, 'required': 1017, 'later': 592, 'week': 1341, 'pound': 922, 'recommended': 991, 'tomorrow': 1255, 'tonight': 1256, 'night': 801, 'time': 1246, 'borrowed': 136, 'borrower': 137, 'branch': 141, 'breadline': 142, 'bridge': 143, 'bright': 144, 'sky': 1105, 'bristol': 147, 'broke': 149, 'btc': 152, 'build': 154, 'society': 1121, 'accounting': 6, 'bullet': 158, 'bumble': 159, 'bumblebee': 160, 'bunny': 161, 'acquisition': 7, 'roll': 1035, 'higher': 505, 'electrcity': 352, 'electricty': 357, 'supply': 1193, 'tarrifs': 1213, 'enegy': 370, 'compared': 245, 'per': 879, 'kwh': 578, 'hard': 494, 'investment': 549, 'operating': 833, 'minimum': 722, 'minority': 724, 'peer': 873, 'purchase': 955, 'switcher': 1202, 'busy': 164, 'tv': 1284, 'chance': 205, 'possible': 920, 'repayment': 1012, 'calculating': 169, 'formula': 437, 'callcredit': 173, 'calvin': 174, 'cant': 176, 'lones': 659, 'repair': 1010, 'caravan': 179, 'co': 231, 'net': 792, 'cardsmart': 182, 'carers': 184, 'allowance': 30, 'bomb': 130, 'boost': 133, 'buddy': 153, 'call': 172, 'central': 203, 'club': 230, 'converter': 262, 'convertor': 263, 'cow': 275, 'daddy': 289, 'contact': 258, 'number': 812, 'welcomed': 1345, 'quid': 967, 'flexi': 423, 'float': 426, 'generator': 462, 'gold': 472, 'hand': 491, 'hub': 519, 'hunter': 522, 'lady': 582, 'land': 586, 'lion': 627, 'appropriate': 55, 'brighton': 146, 'coventry': 273, 'derby': 306, 'durham': 340, 'leeds': 603, 'near': 786, 'shop': 1088, 'stoke': 1163, 'trent': 1274, 'swindon': 1199, 'locator': 653, 'match': 694, 'paper': 848, 'usa': 1307, 'plus': 907, 'limit': 624, 'pocket': 910, 'reserve': 1018, 'robot': 1032, 'mintes': 725, 'hidden': 503, 'sorted': 1132, 'squid': 1144, 'team': 1217, 'token': 1254, 'train': 1270, 'window': 1354, 'work': 1371, 'cashadvance': 186, 'cashadvances': 187, 'cashboost': 188, 'cashconverter': 189, 'cashflex': 190, 'login': 655, 'cashfloat': 191, 'cashloans': 193, 'cashnetusa': 194, 'cashngo': 195, 'cashub': 196, 'cashxo': 197, 'castle': 198, 'catalogue': 200, 'catering': 201, 'cb': 202, 'change': 206, 'industrial': 534, 'office': 820, 'electrical': 354, 'cheaploans': 213, 'likelihood': 619, 'cheeky': 216, 'deicison': 302, 'clc': 224, 'clear': 225, 'morning': 752, 'everyday': 379, 'late': 591, 'ash': 69, 'click': 228, 'coffee': 232, 'collateral': 234, 'comapre': 239, 'construction': 257, 'dual': 337, 'fuel': 449, 'truck': 1276, 'agri': 23, 'offering': 819, 'array': 63, 'make': 681, 'know': 572, 'said': 1041, 'mean': 700, 'invest': 548, 'refinance': 998, 'refinancing': 999, 'bakery': 88, 'bodyshop': 128, 'buisness': 157, 'sin': 1099, 'pricing': 936, 'specialist': 1135, 'browse': 151, 'micro': 708, 'suplliers': 1191, 'onto': 831, 'conveyor': 264, 'crane': 276, 'crusher': 284, 'disc': 320, 'dozer': 332, 'drill': 335, 'dumper': 339, 'including': 528, 'opus': 835, 'farmer': 399, 'farming': 400, 'ferry': 406, 'tech': 1219, 'financial': 408, 'forklift': 435, 'franchise': 442, 'garage': 456, 'global': 468, 'gym': 490, 'haulage': 498, 'helpful': 501, 'factor': 393, 'release': 1003, 'jcb': 555, 'joint': 558, 'large': 588, 'livestock': 635, 'loader': 638, 'wide': 1352, 'loands': 644, 'manufacturing': 687, 'merchant': 703, 'mixer': 729, 'mower': 767, 'partner': 852, 'plc': 906, 'rake': 975, 'recourse': 994, 'redevelopment': 996, 'restaurant': 1023, 'revolving': 1029, 'roller': 1036, 'screener': 1062, 'slush': 1110, 'solar': 1125, 'panel': 847, 'sprayer': 1143, 'stock': 1160, 'away': 80, 'lower': 670, 'takeaway': 1208, 'tedder': 1221, 'telehandler': 1224, 'topper': 1261, 'tractor': 1266, 'trailer': 1269, 'urgent': 1305, 'vessel': 1321, 'wind': 1353, 'comparify': 246, 'project': 944, 'conventional': 261, 'cosmetic': 268, 'surgery': 1195, 'costco': 270, 'create': 277, 'creation': 278, 'demand': 303, 'jungle': 560, 'eligibilty': 360, 'creditscore': 281, 'cycle': 287, 'dad': 288, 'daily': 290, 'dailyloan': 291, 'dash': 292, 'payouts': 865, 'debit': 295, 'buster': 163, 'dental': 304, 'deposit': 305, 'house': 517, 'desperate': 308, 'dial': 312, 'digitonomy': 316, 'axis': 82, 'doe': 325, 'doncaster': 327, 'doorstep': 330, 'dosh': 331, 'pot': 921, 'dragon': 333, 'dream': 334, 'bigger': 112, 'ds': 336, 'dynamic': 341, 'signature': 1095, 'eagle': 342, 'ealing': 343, 'early': 344, 'earn': 345, 'eligable': 358, 'eligible': 362, 'elite': 363, 'efficiency': 351, 'estone': 376, 'experian': 385, 'ezloans': 391, 'worrying': 1375, 'fair': 395, 'family': 397, 'want': 1331, 'aplicaiton': 46, 'text': 1235, 'flooring': 427, 'photography': 888, 'smarter': 1116, 'firefly': 415, 'response': 1022, 'stop': 1164, 'trust': 1277, 'fix': 418, 'flash': 420, 'flexcash': 422, 'amount': 38, 'provides': 951, 'satuday': 1048, 'flm': 425, 'ppi': 928, 'fluid': 429, 'fly': 430, 'fnb': 431, 'forum': 440, 'livecheck': 633, 'leaf': 599, 'confidence': 252, 'probaility': 939, 'freedom': 444, 'frog': 448, 'gateway': 458, 'gauranteed': 459, 'gb': 460, 'genuine': 463, 'eligibity': 361, 'pronto': 945, 'asap': 67, 'penny': 876, 'started': 1150, 'getting': 465, 'gogo': 471, 'gopher': 474, 'got': 475, 'graduate': 478, 'grand': 479, 'green': 481, 'wood': 1370, 'real': 985, 'answer': 40, 'aget': 22, 'meaning': 701, 'rent': 1007, 'handy': 492, 'happy': 493, 'hardship': 495, 'street': 1170, 'highest': 506, 'collection': 236, 'extension': 388, 'yr': 1384, 'maker': 682, 'visit': 1323, 'homemaker': 512, 'calculation': 170, 'frm': 447, 'honey': 514, 'anytime': 42, 'immediate': 524, 'import': 525, 'export': 387, 'income': 529, 'increase': 530, 'independent': 531, 'indigo': 533, 'instal': 536, 'install': 537, 'competitor': 251, 'nightime': 802, 'transfer': 1271, 'international': 545, 'internet': 546, 'jar': 554, 'couple': 272, 'jr': 559, 'naylors': 785, 'kabayan': 561, 'kds': 562, 'key': 564, 'keyword': 565, 'king': 566, 'ping': 894, 'kitty': 569, 'kiwi': 570, 'kong': 574, 'kredyt': 575, 'sa': 1037, 'ponad': 917, 'miesięcy': 714, 'kredytbank': 576, 'kredyty': 577, 'kwik': 579, 'ladderloans': 581, 'ladyloans': 583, 'lama': 584, 'lamp': 585, 'laser': 589, 'last': 590, 'resort': 1021, 'lawn': 594, 'lazer': 595, 'lead': 597, 'spot': 1140, 'legit': 604, 'group': 483, 'lendy': 610, 'lifeboat': 614, 'lightbulb': 615, 'lightly': 616, 'lightning': 617, 'likely': 620, 'likey': 621, 'likley': 622, 'lilly': 623, 'sure': 1194, 'liquid': 628, 'liquidloans': 629, 'litter': 631, 'instead': 542, 'substitute': 1176, 'lmcu': 636, 'loabs': 637, 'loam': 639, 'abroad': 0, 'accept': 1, 'advert': 15, 'america': 35, 'anywhere': 43, 'appraisal': 54, 'apps': 58, 'arranger': 62, 'assurance': 72, 'gurantor': 489, 'credot': 282, 'bankrupt': 95, 'betwween': 108, 'bit': 119, 'blacklisted': 122, 'bradford': 139, 'multi': 771, 'cambridge': 175, 'cardiff': 181, 'chester': 217, 'chesterfield': 218, 'clothes': 229, 'comapnies': 238, 'name': 781, 'comparator': 243, 'disability': 318, 'disabled': 319, 'dudley': 338, 'engine': 372, 'everyone': 380, 'exeter': 384, 'extremely': 390, 'finder': 413, 'forgiveness': 434, 'fortudent': 438, 'funeral': 454, 'gloucester': 469, 'middlesbrough': 713, 'northampton': 807, 'south': 1133, 'shield': 1086, 'grimsby': 482, 'guernsey': 488, 'move': 765, 'rebuild': 988, 'housewife': 518, 'hull': 521, 'decison': 298, 'ireland': 552, 'iva': 553, 'job': 556, 'ladder': 580, 'law': 593, 'le': 596, 'leicester': 605, 'peachy': 872, 'safetynet': 1040, 'savvy': 1054, 'liverpool': 634, 'london': 658, 'lounge': 666, 'manchester': 686, 'marketing': 690, 'merthyr': 705, 'tydfil': 1291, 'motor': 762, 'moving': 766, 'mths': 768, 'newcastle': 796, 'northern': 808, 'nottingham': 810, 'null': 811, 'oldham': 825, 'paid': 845, 'pal': 846, 'part': 851, 'worker': 1372, 'payoff': 862, 'pensioner': 877, 'pip': 898, 'pin': 892, 'plymouth': 908, 'portsmouth': 919, 'pre': 929, 'preston': 932, 'proof': 946, 'qualification': 958, 'rabbit': 973, 'ranger': 978, 'mintues': 726, 'reading': 983, 'really': 986, 'reason': 987, 'refused': 1001, 'repay': 1011, 'request': 1016, 'rocket': 1033, 'salford': 1044, 'scheme': 1055, 'scout': 1061, 'scunthorpe': 1063, 'seen': 1075, 'setup': 1084, 'sheffield': 1085, 'shipley': 1087, 'single': 1100, 'mom': 735, 'mother': 759, 'parent': 850, 'skelmersdale': 1103, 'slider': 1109, 'soft': 1123, 'sport': 1139, 'spotter': 1142, 'star': 1147, 'stockport': 1161, 'stockton': 1162, 'tee': 1222, 'store': 1165, 'stream': 1168, 'studying': 1174, 'rapidly': 980, 'organsie': 840, 'sumo': 1182, 'supermarket': 1189, 'superstore': 1190, 'swansea': 1197, 'telephone': 1225, 'telford': 1226, 'ten': 1229, 'message': 706, 'someone': 1128, 'polish': 914, 'resident': 1020, 'upfront': 1302, 'verification': 1320, 'vet': 1322, 'wale': 1328, 'wallet': 1329, 'walsall': 1330, 'wanted': 1332, 'warrington': 1334, 'wedding': 1339, 'admin': 10, 'wizard': 1361, 'wolf': 1363, 'wolverhampton': 1364, 'wonder': 1366, 'tax': 1214, 'old': 824, 'oldtudents': 826, 'young': 1383, 'adult': 11, 'zoo': 1387, 'loance': 642, 'loand': 643, 'loaning': 645, 'loanmatch': 646, 'loanonaphone': 648, 'loansathome': 649, 'local': 652, 'lollipop': 656, 'lonas': 657, 'india': 532, 'scottish': 1060, 'security': 1073, 'organising': 839, 'longer': 661, 'looking': 662, 'referral': 997, 'losns': 663, 'lottery': 665, 'lovely': 668, 'lucky': 673, 'luma': 674, 'luton': 675, 'luv': 676, 'lot': 664, 'manage': 683, 'enegry': 369, 'marine': 688, 'marriage': 691, 'masa': 692, 'mastercard': 693, 'mate': 695, 'mazuma': 698, 'mcf': 699, 'medium': 702, 'merry': 704, 'metro': 707, 'microcredit': 709, 'microfinance': 710, 'microlend': 711, 'mid': 712, 'mini': 720, 'minicredit': 721, 'mining': 723, 'miss': 728, 'mjar': 730, 'mobilequid': 733, 'mojo': 734, 'brain': 140, 'changer': 207, 'essential': 375, 'love': 667, 'mill': 717, 'mona': 736, 'oasis': 814, 'problem': 940, 'republic': 1014, 'secret': 1070, 'spider': 1138, 'station': 1155, 'tree': 1273, 'worry': 1374, 'moneybarn': 738, 'moneygram': 739, 'moneyline': 740, 'moneyloans': 741, 'moneyway': 742, 'monkey': 743, 'end': 368, 'made': 680, 'monthloans': 745, 'payback': 857, 'moola': 747, 'moolah': 748, 'moolr': 749, 'moorcroft': 750, 'moore': 751, 'morrison': 753, 'mors': 754, 'morse': 755, 'moses': 757, 'moto': 760, 'motonovo': 761, 'motorbike': 763, 'mudra': 770, 'munee': 774, 'hut': 523, 'munnee': 775, 'mutual': 778, 'mwc': 779, 'nationwide': 783, 'allow': 29, 'urgently': 1306, 'extra': 389, 'keep': 563, 'declined': 299, 'nemo': 790, 'nemoloans': 791, 'netwest': 793, 'next': 798, 'nextloans': 799, 'niche': 800, 'noodle': 805, 'north': 806, 'east': 348, 'northgate': 809, 'plate': 904, 'oaka': 813, 'obtain': 816, 'official': 821, 'okam': 823, 'omega': 827, 'corporation': 267, 'belfast': 101, 'max': 696, 'organise': 838, 'orange': 836, 'orchard': 837, 'paperwork': 849, 'fay': 403, 'sofa': 1122, 'loana': 641, 'might': 715, 'pixie': 899, 'safe': 1038, 'user': 1310, 'paydo': 859, 'paying': 860, 'payoneer': 863, 'pcp': 868, 'pd': 869, 'pdf': 870, 'peach': 871, 'penfed': 874, 'penguin': 875, 'percent': 880, 'perfectmoney': 882, 'ca': 167, 'manageable': 684, 'personel': 884, 'personnal': 885, 'pig': 889, 'piggy': 890, 'piggyback': 891, 'pinewood': 893, 'pink': 895, 'pinky': 896, 'pioneer': 897, 'military': 716, 'page': 844, 'plain': 901, 'platinum': 905, 'pogo': 911, 'pogoloans': 912, 'polskie': 915, 'chwilowki': 222, 'pozyczki': 925, 'pozyczka': 924, 'bez': 109, 'zaswiadczen': 1385, 'gotowkowa': 476, 'anglii': 39, 'gdzie': 461, 'najlepiej': 780, 'przez': 952, 'od': 817, 'dla': 324, 'polakow': 913, 'domu': 326, 'klienta': 571, 'po': 909, 'polsku': 916, 'pożyczka': 926, 'pożyczki': 927, 'akceptowane': 27, 'presse': 931, 'private': 937, 'pro': 938, 'qonga': 957, 'coin': 233, 'charged': 209, 'representative': 1013, 'finaning': 411, 'qui': 959, 'think': 1241, 'wage': 1327, 'quickcash': 961, 'quicken': 963, 'national': 782, 'quickest': 964, 'quickloans': 965, 'quiddi': 968, 'quiddly': 969, 'quidquid': 970, 'quik': 971, 'rainbow': 974, 'ramsdens': 976, 'rapid': 979, 'setter': 1083, 'rebuilding': 989, 'recruitment': 995, 'refusal': 1000, 'everywhere': 381, 'relax': 1002, 'renewable': 1004, 'arrears': 64, 'rental': 1008, 'reputable': 1015, 'reset': 1019, 'retirement': 1025, 'rise': 1031, 'rockstar': 1034, 'comparsion': 249, 'safeloans': 1039, 'sainsbury': 1042, 'salary': 1043, 'sameday': 1045, 'sanny': 1046, 'sasuma': 1047, 'satuma': 1049, 'savoy': 1053, 'scotcash': 1058, 'sd': 1064, 'taylor': 1216, 'season': 1067, 'definition': 301, 'result': 1024, 'loanon': 647, 'segment': 1076, 'selling': 1078, 'sensible': 1079, 'shopa': 1089, 'shoppacheck': 1090, 'shopper': 1091, 'tearm': 1218, 'shot': 1093, 'similar': 1096, 'wonga': 1368, 'vending': 1319, 'pcl': 867, 'mum': 773, 'six': 1102, 'skint': 1104, 'skyline': 1106, 'skylinedirect': 1107, 'slc': 1108, 'sm': 1111, 'smae': 1112, 'electrictity': 356, 'blackpool': 123, 'taken': 1209, 'care': 183, 'fortudents': 439, 'smallloans': 1114, 'smile': 1119, 'snappy': 1120, 'proprietorship': 948, 'sonic': 1129, 'boom': 132, 'sonny': 1130, 'sort': 1131, 'speed': 1136, 'speedy': 1137, 'spotloan': 1141, 'st': 1145, 'stafford': 1146, 'starloans': 1148, 'helping': 502, 'succeeding': 1179, 'starter': 1151, 'starting': 1152, 'startu': 1153, 'sterling': 1158, 'still': 1159, 'strapped': 1167, 'streamline': 1169, 'struggling': 1172, 'su': 1175, 'subtitute': 1177, 'summer': 1181, 'sunne': 1184, 'sunshine': 1185, 'supa': 1186, 'super': 1187, 'suuny': 1196, 'swift': 1198, 'swish': 1200, 'reveals': 1026, 'szybka': 1204, 'taking': 1210, 'tandem': 1211, 'taxi': 1215, 'teenager': 1223, 'temp': 1227, 'temporary': 1228, 'loanz': 651, 'termz': 1233, 'tex': 1234, 'funder': 452, 'textloan': 1236, 'textloans': 1237, 'tfs': 1238, 'th': 1239, 'ultimate': 1295, 'thequickcashclub': 1240, 'three': 1242, 'tick': 1243, 'tock': 1252, 'tide': 1244, 'tiny': 1247, 'tlc': 1250, 'tm': 1251, 'tooth': 1258, 'fairy': 396, 'toothfairy': 1259, 'grow': 484, 'show': 1094, 'revenue': 1027, 'coporation': 265, 'embroidary': 364, 'maching': 679, 'embroidery': 365, 'invoicing': 551, 'broad': 148, 'total': 1262, 'totalloans': 1263, 'town': 1264, 'tried': 1275, 'trustworthy': 1280, 'turned': 1283, 'twelve': 1285, 'tx': 1287, 'txt': 1288, 'txtaloan': 1289, 'txtloans': 1290, 'financials': 409, 'mot': 758, 'ukloans': 1294, 'umbrella': 1296, 'unclaimed': 1297, 'united': 1299, 'kingdom': 567, 'using': 1311, 'aplication': 47, 'hasssle': 497, 'unseured': 1301, 'used': 1309, 'va': 1313, 'vanquis': 1315, 'vario': 1316, 'varooma': 1317, 'vehicle': 1318, 'viva': 1324, 'vivaloans': 1325, 'voucher': 1326, 'web': 1337, 'wee': 1340, 'succeed': 1178, 'well': 1346, 'known': 573, 'weluvloans': 1347, 'wentworth': 1348, 'western': 1349, 'circle': 223, 'newport': 797, 'white': 1350, 'wing': 1355, 'wise': 1357, 'wish': 1358, 'program': 943, 'wizz': 1362, 'wong': 1367, 'africa': 20, 'comp': 241, 'worst': 1376, 'www': 1378, 'lendup': 609, 'loansdirect': 650, 'yearly': 1380, 'yes': 1381, 'yorkshire': 1382, 'zebit': 1386, 'zooma': 1388}\n"
     ]
    }
   ],
   "source": [
    "# summarize\n",
    "print(vectorizer.vocabulary_)\n",
    "#print(vectorizer.idf_)"
   ]
  },
  {
   "cell_type": "code",
   "execution_count": 124,
   "metadata": {},
   "outputs": [
    {
     "name": "stdout",
     "output_type": "stream",
     "text": [
      "(17074, 1389)\n",
      "[[0.         0.         0.68512373 ... 0.         0.         0.        ]\n",
      " [0.         0.         0.         ... 0.         0.         0.        ]\n",
      " [0.         0.         0.         ... 0.         0.         0.        ]\n",
      " ...\n",
      " [0.         0.         0.         ... 0.         0.         0.78649157]\n",
      " [0.         0.         0.         ... 0.         0.         0.69032737]\n",
      " [0.         0.         0.         ... 0.         0.         0.69443987]]\n"
     ]
    }
   ],
   "source": [
    "# summarize encoded vector\n",
    "print(vec_train.shape)\n",
    "print(vec_train.toarray())"
   ]
  },
  {
   "cell_type": "code",
   "execution_count": 125,
   "metadata": {},
   "outputs": [
    {
     "data": {
      "text/plain": [
       "(17074, 1389)"
      ]
     },
     "execution_count": 125,
     "metadata": {},
     "output_type": "execute_result"
    }
   ],
   "source": [
    "X.shape"
   ]
  },
  {
   "cell_type": "code",
   "execution_count": 126,
   "metadata": {},
   "outputs": [
    {
     "data": {
      "text/plain": [
       "(17074,)"
      ]
     },
     "execution_count": 126,
     "metadata": {},
     "output_type": "execute_result"
    }
   ],
   "source": [
    "y.shape"
   ]
  },
  {
   "cell_type": "markdown",
   "metadata": {},
   "source": [
    "# RF Regressor with cross validation"
   ]
  },
  {
   "cell_type": "code",
   "execution_count": null,
   "metadata": {},
   "outputs": [],
   "source": [
    "#kfold\n",
    "kf = model_selection.KFold(n_splits=5) \n",
    "kf.get_n_splits(X)\n",
    "print(kf)"
   ]
  },
  {
   "cell_type": "code",
   "execution_count": 110,
   "metadata": {},
   "outputs": [],
   "source": [
    "#creating instance of RFRegressor \n",
    "model1 = RandomForestRegressor(n_estimators=5000, max_features=0.6, n_jobs=-1 ,min_samples_leaf=30)"
   ]
  },
  {
   "cell_type": "code",
   "execution_count": 111,
   "metadata": {},
   "outputs": [],
   "source": [
    "#cross val split with score and r2\n",
    "for train_index, test_index in kf.split(X):\n",
    "    #print('TRAIN:', train_index, 'TEST:', test_index)\n",
    "    X_train, X_test = X[train_index], X[test_index]\n",
    "    y_train, y_test = y[train_index], y[test_index]"
   ]
  },
  {
   "cell_type": "code",
   "execution_count": 112,
   "metadata": {},
   "outputs": [
    {
     "data": {
      "text/plain": [
       "RandomForestRegressor(bootstrap=True, criterion='mse', max_depth=None,\n",
       "           max_features=0.6, max_leaf_nodes=None,\n",
       "           min_impurity_decrease=0.0, min_impurity_split=None,\n",
       "           min_samples_leaf=30, min_samples_split=2,\n",
       "           min_weight_fraction_leaf=0.0, n_estimators=5000, n_jobs=-1,\n",
       "           oob_score=False, random_state=None, verbose=0, warm_start=False)"
      ]
     },
     "execution_count": 112,
     "metadata": {},
     "output_type": "execute_result"
    }
   ],
   "source": [
    "#training\n",
    "model1.fit(X_train, y_train)"
   ]
  },
  {
   "cell_type": "code",
   "execution_count": 113,
   "metadata": {},
   "outputs": [],
   "source": [
    "#evaluating\n",
    "y_pred = model1.predict(X_test)"
   ]
  },
  {
   "cell_type": "code",
   "execution_count": 114,
   "metadata": {},
   "outputs": [
    {
     "name": "stdout",
     "output_type": "stream",
     "text": [
      "MSE\n",
      "20.034633691035527\n",
      "R2\n",
      "-0.0020303682299496195\n"
     ]
    }
   ],
   "source": [
    "print('MSE')\n",
    "print(metrics.mean_squared_error(y_test, y_pred)) #mean square error\n",
    "print('R2')\n",
    "print(metrics.r2_score(y_test, y_pred)) #r2 score"
   ]
  },
  {
   "cell_type": "code",
   "execution_count": 68,
   "metadata": {},
   "outputs": [],
   "source": [
    "from scipy.stats import spearmanr, pearsonr"
   ]
  },
  {
   "cell_type": "code",
   "execution_count": 69,
   "metadata": {},
   "outputs": [
    {
     "name": "stdout",
     "output_type": "stream",
     "text": [
      "Test data Spearman correlation: 0.184\n"
     ]
    }
   ],
   "source": [
    "#monotonic relationship as the relation between the variables is non linear\n",
    "spearman = spearmanr(y_test, y_pred)\n",
    "print(f'Test data Spearman correlation: {spearman[0]:.3}')"
   ]
  },
  {
   "cell_type": "code",
   "execution_count": 38,
   "metadata": {},
   "outputs": [],
   "source": [
    "#cross val score\n",
    "#scores = model_selection.cross_val_score(model1, X, y, cv = 5, scoring ='neg_mean_squared_error')\n",
    "#print(scores)"
   ]
  },
  {
   "cell_type": "markdown",
   "metadata": {},
   "source": [
    "# predict for unseen data "
   ]
  },
  {
   "cell_type": "code",
   "execution_count": 39,
   "metadata": {},
   "outputs": [],
   "source": [
    "unseen_data = 'get instant decision'\n",
    "unseen_data1 = 'decision get instant'"
   ]
  },
  {
   "cell_type": "code",
   "execution_count": 40,
   "metadata": {},
   "outputs": [],
   "source": [
    "#Loading it later and creating vector of unseen data\n",
    "loaded_vec = pickle.load(open(\"feature_bow.pkl\", \"rb\"))\n",
    "new_vec = loaded_vec.transform(np.array([unseen_data]))"
   ]
  },
  {
   "cell_type": "code",
   "execution_count": 41,
   "metadata": {},
   "outputs": [],
   "source": [
    "pred = model1.predict(new_vec)"
   ]
  },
  {
   "cell_type": "code",
   "execution_count": 42,
   "metadata": {},
   "outputs": [
    {
     "data": {
      "text/plain": [
       "[0.28538813284335446]"
      ]
     },
     "execution_count": 42,
     "metadata": {},
     "output_type": "execute_result"
    }
   ],
   "source": [
    "pred.tolist()"
   ]
  },
  {
   "cell_type": "code",
   "execution_count": 43,
   "metadata": {},
   "outputs": [],
   "source": [
    "new_vec1 = vectorizer.transform(np.array([unseen_data1]))"
   ]
  },
  {
   "cell_type": "code",
   "execution_count": 44,
   "metadata": {},
   "outputs": [],
   "source": [
    "pred1 = model1.predict(new_vec1)"
   ]
  },
  {
   "cell_type": "code",
   "execution_count": 45,
   "metadata": {},
   "outputs": [
    {
     "data": {
      "text/plain": [
       "[0.2853881328433544]"
      ]
     },
     "execution_count": 45,
     "metadata": {},
     "output_type": "execute_result"
    }
   ],
   "source": [
    "pred1.tolist()"
   ]
  },
  {
   "cell_type": "code",
   "execution_count": null,
   "metadata": {},
   "outputs": [],
   "source": []
  }
 ],
 "metadata": {
  "kernelspec": {
   "display_name": "Python 3",
   "language": "python",
   "name": "python3"
  },
  "language_info": {
   "codemirror_mode": {
    "name": "ipython",
    "version": 3
   },
   "file_extension": ".py",
   "mimetype": "text/x-python",
   "name": "python",
   "nbconvert_exporter": "python",
   "pygments_lexer": "ipython3",
   "version": "3.6.5"
  }
 },
 "nbformat": 4,
 "nbformat_minor": 2
}
