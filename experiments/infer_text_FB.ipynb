{
 "cells": [
  {
   "cell_type": "code",
   "execution_count": 1,
   "metadata": {},
   "outputs": [],
   "source": [
    "import pandas as pd\n",
    "import random\n",
    "import os\n",
    "import numpy as np\n",
    "import string\n",
    "import re\n",
    "import pickle\n",
    "import time\n",
    "import matplotlib.pyplot as plt\n",
    "from nltk.tokenize import word_tokenize\n",
    "from nltk.corpus import stopwords\n",
    "from nltk.stem import WordNetLemmatizer\n",
    "from sklearn.feature_extraction.text import TfidfVectorizer, CountVectorizer\n",
    "from sklearn.manifold import TSNE\n",
    "from sklearn.preprocessing import Imputer \n",
    "from sklearn.ensemble import RandomForestRegressor \n",
    "from sklearn import model_selection\n",
    "from sklearn import metrics\n",
    "from textblob import TextBlob, Word\n",
    "from sklearn.externals import joblib\n",
    "from scipy.stats import spearmanr, pearsonr\n",
    "from sklearn.manifold import TSNE\n",
    "%matplotlib inline\n",
    "from bokeh.io import push_notebook, output_notebook\n",
    "from bokeh.plotting import figure, show\n",
    "from bokeh.models import ColumnDataSource, LabelSet\n",
    "import gensim\n",
    "import splitter\n",
    "from sklearn.linear_model import Ridge"
   ]
  },
  {
   "cell_type": "code",
   "execution_count": 2,
   "metadata": {},
   "outputs": [],
   "source": [
    "from xgboost import XGBRegressor"
   ]
  },
  {
   "cell_type": "code",
   "execution_count": 2,
   "metadata": {},
   "outputs": [],
   "source": [
    "import autosklearn.regression"
   ]
  },
  {
   "cell_type": "code",
   "execution_count": 3,
   "metadata": {},
   "outputs": [],
   "source": [
    "import torch"
   ]
  },
  {
   "cell_type": "code",
   "execution_count": 4,
   "metadata": {},
   "outputs": [],
   "source": [
    "wordnet_lemmatizer = WordNetLemmatizer()\n",
    "stop = stopwords.words('english')"
   ]
  },
  {
   "cell_type": "code",
   "execution_count": 5,
   "metadata": {},
   "outputs": [],
   "source": [
    "#loading googlenews vec\n",
    "model = gensim.models.KeyedVectors.load_word2vec_format('/Users/rithika/Documents/247ai/GoogleNews-vectors-negative300.bin', binary=True)"
   ]
  },
  {
   "cell_type": "code",
   "execution_count": 6,
   "metadata": {},
   "outputs": [],
   "source": [
    "#cleaning input data to get predictor values and target\n",
    "def prepare_data(fname):\n",
    "    filename = os.path.join('/Users/rithika/Documents/247ai/datasets', fname)\n",
    "    if os.path.isfile(filename):\n",
    "        dat = pd.read_csv(filename)\n",
    "    else:\n",
    "        print(\"no such file exists at this time\")\n",
    "    dat['Adcopy']=dat['Headline 1']+' '+dat['Headline 2']+' '+dat['Description']\n",
    "    #dat['Adcopy'] = dat['Description']\n",
    "    dat = dat[['Adcopy','Clicks']]\n",
    "    dat = dat[pd.notnull(dat['Adcopy'])]\n",
    "    dat['Adcopy'] = dat['Adcopy'].replace('http\\S+|www.\\S+', '', regex=True)\n",
    "    dat['Adcopy'].replace('[™!®\"#\\'©()*+,-./:;<=>?@\\&[\\]^_`{|}~’”“′‘\\\\\\%0123456789£]',' ',inplace=True,regex=True)\n",
    "    dat['Adcopy'].replace('  ',' ',inplace=True,regex=True)\n",
    "    dat['Adcopy'].replace('   ',' ',inplace=True,regex=True)\n",
    "    dat['Adcopy'].replace('  ',' ',inplace=True,regex=True)\n",
    "    dat['Adcopy'] = dat['Adcopy'].str.lower()\n",
    "    dat['Adcopy'] = dat['Adcopy'].apply(lambda x: ' '.join([wordnet_lemmatizer.lemmatize(str(word)) for word in x.split()]))\n",
    "    dat['Copy'] = dat['Adcopy'].apply(lambda x: ' '.join([word for word in x.split() if word not in (stop)]))\n",
    "    data = dat[['Copy','Clicks']]\n",
    "    datum = data.groupby('Copy')['Clicks'].mean().reset_index()\n",
    "    print(len(datum))\n",
    "    return datum"
   ]
  },
  {
   "cell_type": "code",
   "execution_count": 7,
   "metadata": {},
   "outputs": [],
   "source": [
    "#prints words from the dataset which is not present in google news vec(simply for reducing the runtime of preprocessing)\n",
    "def no_present(da, model):\n",
    "    #loading googlenews vec\n",
    "    #model = gensim.models.KeyedVectors.load_word2vec_format('/Users/rithika/Documents/247ai/GoogleNews-vectors-negative300.bin', binary=True)\n",
    "    nokey = list()\n",
    "    for sentence in da:\n",
    "        for word in sentence.split(' '): \n",
    "            if word not in model:\n",
    "                if word not in nokey:\n",
    "                    nokey.append(word)\n",
    "    #print(nokey)\n",
    "    #print(len(nokey))\n",
    "    return nokey"
   ]
  },
  {
   "cell_type": "code",
   "execution_count": 8,
   "metadata": {},
   "outputs": [],
   "source": [
    "#splits the compound words\n",
    "def spli(row, nokey):\n",
    "    if row in nokey:\n",
    "        y = splitter.split(row) #compound word splitter\n",
    "        if y != row and y != '':\n",
    "            return ' '.join(y)\n",
    "        else:\n",
    "            wo = Word(row).correct() #spellcorrector\n",
    "            return wo\n",
    "    else:\n",
    "        return row"
   ]
  },
  {
   "cell_type": "code",
   "execution_count": 9,
   "metadata": {},
   "outputs": [],
   "source": [
    "#furthur cleans the data and returns the input and output values\n",
    "def clean_dat(data,model):\n",
    "    nokey = no_present(data['Copy'],model)\n",
    "    data['Copy'] = data['Copy'].apply(lambda x: ' '.join([spli(str(word),nokey) for word in x.split()]))\n",
    "    datu = data.groupby('Copy')['Clicks'].mean().reset_index()\n",
    "    clean_d = datu['Copy'] #predictor values\n",
    "    res = datu['Clicks'] #target\n",
    "    print(len(clean_d))\n",
    "    print(len(res))\n",
    "    return clean_d, res, datu"
   ]
  },
  {
   "cell_type": "code",
   "execution_count": 10,
   "metadata": {},
   "outputs": [],
   "source": [
    "# removes rows which have words from foreign language\n",
    "def remove_lang(clean_d, datu, model):\n",
    "    key_not = no_present(clean_d, model)\n",
    "    ind = []\n",
    "    count = 0\n",
    "    for sen in clean_d:\n",
    "        for word in sen.split(' '):\n",
    "            if word in key_not:\n",
    "                if word not in stop:\n",
    "                    if count not in ind:\n",
    "                        ind.append(count)\n",
    "        count+=1\n",
    "    cl_data = datu.drop(datu.index[ind])  \n",
    "    cl_data['Copy'] = cl_data['Copy'].apply(lambda x: ' '.join([word for word in x.split() if word not in (stop)]))\n",
    "    #print(ind)\n",
    "    clean_data = cl_data['Copy']\n",
    "    result = cl_data['Clicks']\n",
    "    print(len(clean_data))\n",
    "    print(len(result))\n",
    "    return clean_data, result"
   ]
  },
  {
   "cell_type": "code",
   "execution_count": 11,
   "metadata": {},
   "outputs": [
    {
     "name": "stdout",
     "output_type": "stream",
     "text": [
      "1413\n"
     ]
    }
   ],
   "source": [
    "data = prepare_data('HP_2018-06-24_2018-07-23.csv')"
   ]
  },
  {
   "cell_type": "code",
   "execution_count": 14,
   "metadata": {},
   "outputs": [
    {
     "name": "stdout",
     "output_type": "stream",
     "text": [
      "1413\n",
      "1413\n"
     ]
    }
   ],
   "source": [
    "#split and correct\n",
    "clean_d, res, datu = clean_dat(data,model)"
   ]
  },
  {
   "cell_type": "code",
   "execution_count": 15,
   "metadata": {},
   "outputs": [
    {
     "name": "stdout",
     "output_type": "stream",
     "text": [
      "1412\n",
      "1412\n"
     ]
    }
   ],
   "source": [
    "cleaned_data, result = remove_lang(clean_d, datu, model)"
   ]
  },
  {
   "cell_type": "code",
   "execution_count": 16,
   "metadata": {},
   "outputs": [
    {
     "name": "stdout",
     "output_type": "stream",
     "text": [
      "Found 1201(/1201) words with w2v vectors\n",
      "Vocab size : 1201\n"
     ]
    }
   ],
   "source": [
    "from models import InferSent\n",
    "V = 2\n",
    "MODEL_PATH = '/Users/rithika/Documents/InferSent/infersent%s.pkl' % V\n",
    "params_model = {'bsize': 64, 'word_emb_dim': 300, 'enc_lstm_dim': 2048,\n",
    "                'pool_type': 'max', 'dpout_model': 0.0, 'version': V}\n",
    "infersent = InferSent(params_model)\n",
    "infersent.load_state_dict(torch.load(MODEL_PATH))\n",
    "W2V_PATH = '/Users/rithika/Documents/InferSent/crawl-300d-2M.vec'\n",
    "infersent.set_w2v_path(W2V_PATH)\n",
    "infersent.build_vocab(cleaned_data, tokenize=False)\n",
    "embeddings = infersent.encode(cleaned_data, tokenize=False) #True)\n",
    "#print('nb sentences encoded : {0}'.format(len(embeddings)))\n",
    "X = embeddings\n",
    "y = np.array(result)"
   ]
  },
  {
   "cell_type": "code",
   "execution_count": 17,
   "metadata": {},
   "outputs": [],
   "source": [
    "#y = np.array(result)"
   ]
  },
  {
   "cell_type": "code",
   "execution_count": 19,
   "metadata": {},
   "outputs": [],
   "source": [
    "#y[np.isnan(y)] = 0"
   ]
  },
  {
   "cell_type": "code",
   "execution_count": 21,
   "metadata": {},
   "outputs": [
    {
     "data": {
      "text/plain": [
       "(1412, 4096)"
      ]
     },
     "execution_count": 21,
     "metadata": {},
     "output_type": "execute_result"
    }
   ],
   "source": [
    "X.shape"
   ]
  },
  {
   "cell_type": "code",
   "execution_count": 22,
   "metadata": {},
   "outputs": [
    {
     "data": {
      "text/plain": [
       "(1412,)"
      ]
     },
     "execution_count": 22,
     "metadata": {},
     "output_type": "execute_result"
    }
   ],
   "source": [
    "y.shape"
   ]
  },
  {
   "cell_type": "code",
   "execution_count": 16,
   "metadata": {},
   "outputs": [],
   "source": [
    "def RF_Regressor(X, y):\n",
    "    #kfold\n",
    "    kf = model_selection.KFold(n_splits=5) \n",
    "    kf.get_n_splits(X)\n",
    "    #print(kf)\n",
    "    #creating instance of RFRegressor \n",
    "    model1 = RandomForestRegressor(n_estimators=500,max_features='sqrt',n_jobs=-1,min_samples_leaf=60)#cross val split\n",
    "    for train_index, test_index in kf.split(X):\n",
    "        #print('TRAIN:', train_index, 'TEST:', test_index)\n",
    "        X_train, X_test = X[train_index], X[test_index]\n",
    "        y_train, y_test = y[train_index], y[test_index]    \n",
    "    #training\n",
    "    model_reg = model1.fit(X_train, y_train)\n",
    "   \n",
    "    #evaluating\n",
    "    y_pred = model1.predict(X_test)\n",
    "    #monotonic relationship as the relation between the variables is non linear\n",
    "    spearman = spearmanr(y_test, y_pred)\n",
    "    pearson = pearsonr(y_test, y_pred)\n",
    "    print(f'Test data Spearman correlation: {spearman[0]:.3}')\n",
    "    print(f'Test data pearson correlation: {pearson[0]:.3}')\n",
    "    print('MSE')\n",
    "    print(metrics.mean_squared_error(y_test, y_pred)) #mean square error\n",
    "    print('R2')\n",
    "    print(metrics.r2_score(y_test, y_pred)) #r2 score\n",
    "    print('MAE')\n",
    "    print(metrics.mean_absolute_error(y_test, y_pred)) #mae\n",
    "    print('Variance Score')\n",
    "    print(metrics.explained_variance_score(y_test, y_pred)) #mape\n",
    "    \n",
    "    return model_reg"
   ]
  },
  {
   "cell_type": "code",
   "execution_count": 17,
   "metadata": {},
   "outputs": [
    {
     "name": "stdout",
     "output_type": "stream",
     "text": [
      "Test data Spearman correlation: 0.363\n",
      "Test data pearson correlation: 0.271\n",
      "MSE\n",
      "0.0853056340767\n",
      "R2\n",
      "0.064610387821\n",
      "MAE\n",
      "0.181031082325\n",
      "Variance Score\n",
      "0.0715130935883\n"
     ]
    }
   ],
   "source": [
    "model_reg = RF_Regressor(X, y)"
   ]
  },
  {
   "cell_type": "code",
   "execution_count": 23,
   "metadata": {},
   "outputs": [
    {
     "name": "stderr",
     "output_type": "stream",
     "text": [
      "/Users/rithika/anaconda3/envs/deep/lib/python3.6/site-packages/autosklearn/evaluation/train_evaluator.py:197: RuntimeWarning: Mean of empty slice\n",
      "  Y_train_pred = np.nanmean(Y_train_pred_full, axis=0)\n"
     ]
    },
    {
     "name": "stdout",
     "output_type": "stream",
     "text": [
      "[WARNING] [2018-08-22 13:55:40,318:EnsembleBuilder(1):0a7fd6d601ab7d14a06a6cd9aaae9a1b] No models better than random - using Dummy Classifier!\n",
      "[WARNING] [2018-08-22 13:55:40,335:EnsembleBuilder(1):0a7fd6d601ab7d14a06a6cd9aaae9a1b] No models better than random - using Dummy Classifier!\n",
      "[WARNING] [2018-08-22 13:55:40,346:AutoMLSMBO(1)::0a7fd6d601ab7d14a06a6cd9aaae9a1b] Could not find meta-data directory /Users/rithika/anaconda3/envs/deep/lib/python3.6/site-packages/autosklearn/metalearning/files/r2_regression_dense\n",
      "[WARNING] [2018-08-22 13:55:42,342:EnsembleBuilder(1):0a7fd6d601ab7d14a06a6cd9aaae9a1b] No models better than random - using Dummy Classifier!\n",
      "[WARNING] [2018-08-22 13:55:44,348:EnsembleBuilder(1):0a7fd6d601ab7d14a06a6cd9aaae9a1b] No models better than random - using Dummy Classifier!\n",
      "[WARNING] [2018-08-22 13:55:46,352:EnsembleBuilder(1):0a7fd6d601ab7d14a06a6cd9aaae9a1b] No models better than random - using Dummy Classifier!\n",
      "[WARNING] [2018-08-22 13:55:48,357:EnsembleBuilder(1):0a7fd6d601ab7d14a06a6cd9aaae9a1b] No models better than random - using Dummy Classifier!\n",
      "[WARNING] [2018-08-22 13:55:50,362:EnsembleBuilder(1):0a7fd6d601ab7d14a06a6cd9aaae9a1b] No models better than random - using Dummy Classifier!\n",
      "[WARNING] [2018-08-22 13:55:52,367:EnsembleBuilder(1):0a7fd6d601ab7d14a06a6cd9aaae9a1b] No models better than random - using Dummy Classifier!\n",
      "[WARNING] [2018-08-22 13:55:54,371:EnsembleBuilder(1):0a7fd6d601ab7d14a06a6cd9aaae9a1b] No models better than random - using Dummy Classifier!\n",
      "[WARNING] [2018-08-22 13:55:56,376:EnsembleBuilder(1):0a7fd6d601ab7d14a06a6cd9aaae9a1b] No models better than random - using Dummy Classifier!\n",
      "[WARNING] [2018-08-22 13:55:58,381:EnsembleBuilder(1):0a7fd6d601ab7d14a06a6cd9aaae9a1b] No models better than random - using Dummy Classifier!\n",
      "[WARNING] [2018-08-22 13:56:00,385:EnsembleBuilder(1):0a7fd6d601ab7d14a06a6cd9aaae9a1b] No models better than random - using Dummy Classifier!\n",
      "[WARNING] [2018-08-22 13:56:02,390:EnsembleBuilder(1):0a7fd6d601ab7d14a06a6cd9aaae9a1b] No models better than random - using Dummy Classifier!\n",
      "[WARNING] [2018-08-22 13:56:04,393:EnsembleBuilder(1):0a7fd6d601ab7d14a06a6cd9aaae9a1b] No models better than random - using Dummy Classifier!\n",
      "[WARNING] [2018-08-22 13:56:06,398:EnsembleBuilder(1):0a7fd6d601ab7d14a06a6cd9aaae9a1b] No models better than random - using Dummy Classifier!\n",
      "[WARNING] [2018-08-22 13:56:08,403:EnsembleBuilder(1):0a7fd6d601ab7d14a06a6cd9aaae9a1b] No models better than random - using Dummy Classifier!\n",
      "[WARNING] [2018-08-22 13:56:10,409:EnsembleBuilder(1):0a7fd6d601ab7d14a06a6cd9aaae9a1b] No models better than random - using Dummy Classifier!\n",
      "[WARNING] [2018-08-22 13:56:12,416:EnsembleBuilder(1):0a7fd6d601ab7d14a06a6cd9aaae9a1b] No models better than random - using Dummy Classifier!\n",
      "[WARNING] [2018-08-22 13:56:14,423:EnsembleBuilder(1):0a7fd6d601ab7d14a06a6cd9aaae9a1b] No models better than random - using Dummy Classifier!\n",
      "[WARNING] [2018-08-22 13:56:16,428:EnsembleBuilder(1):0a7fd6d601ab7d14a06a6cd9aaae9a1b] No models better than random - using Dummy Classifier!\n",
      "[WARNING] [2018-08-22 13:56:18,433:EnsembleBuilder(1):0a7fd6d601ab7d14a06a6cd9aaae9a1b] No models better than random - using Dummy Classifier!\n",
      "[WARNING] [2018-08-22 13:56:20,437:EnsembleBuilder(1):0a7fd6d601ab7d14a06a6cd9aaae9a1b] No models better than random - using Dummy Classifier!\n",
      "[WARNING] [2018-08-22 13:56:22,443:EnsembleBuilder(1):0a7fd6d601ab7d14a06a6cd9aaae9a1b] No models better than random - using Dummy Classifier!\n",
      "[WARNING] [2018-08-22 13:56:24,448:EnsembleBuilder(1):0a7fd6d601ab7d14a06a6cd9aaae9a1b] No models better than random - using Dummy Classifier!\n",
      "[WARNING] [2018-08-22 13:56:26,453:EnsembleBuilder(1):0a7fd6d601ab7d14a06a6cd9aaae9a1b] No models better than random - using Dummy Classifier!\n",
      "[WARNING] [2018-08-22 13:56:28,458:EnsembleBuilder(1):0a7fd6d601ab7d14a06a6cd9aaae9a1b] No models better than random - using Dummy Classifier!\n",
      "[WARNING] [2018-08-22 13:56:30,463:EnsembleBuilder(1):0a7fd6d601ab7d14a06a6cd9aaae9a1b] No models better than random - using Dummy Classifier!\n"
     ]
    },
    {
     "name": "stderr",
     "output_type": "stream",
     "text": [
      "/Users/rithika/anaconda3/envs/deep/lib/python3.6/site-packages/autosklearn/evaluation/train_evaluator.py:197: RuntimeWarning: Mean of empty slice\n",
      "  Y_train_pred = np.nanmean(Y_train_pred_full, axis=0)\n"
     ]
    },
    {
     "name": "stdout",
     "output_type": "stream",
     "text": [
      "[WARNING] [2018-08-22 13:56:32,469:EnsembleBuilder(1):0a7fd6d601ab7d14a06a6cd9aaae9a1b] No models better than random - using Dummy Classifier!\n"
     ]
    },
    {
     "name": "stderr",
     "output_type": "stream",
     "text": [
      "/Users/rithika/anaconda3/envs/deep/lib/python3.6/site-packages/autosklearn/evaluation/train_evaluator.py:197: RuntimeWarning: Mean of empty slice\n",
      "  Y_train_pred = np.nanmean(Y_train_pred_full, axis=0)\n"
     ]
    },
    {
     "name": "stdout",
     "output_type": "stream",
     "text": [
      "[WARNING] [2018-08-22 13:56:34,475:EnsembleBuilder(1):0a7fd6d601ab7d14a06a6cd9aaae9a1b] No models better than random - using Dummy Classifier!\n",
      "[WARNING] [2018-08-22 13:56:36,480:EnsembleBuilder(1):0a7fd6d601ab7d14a06a6cd9aaae9a1b] No models better than random - using Dummy Classifier!\n",
      "[WARNING] [2018-08-22 13:56:38,491:EnsembleBuilder(1):0a7fd6d601ab7d14a06a6cd9aaae9a1b] No models better than random - using Dummy Classifier!\n",
      "[WARNING] [2018-08-22 13:56:40,495:EnsembleBuilder(1):0a7fd6d601ab7d14a06a6cd9aaae9a1b] No models better than random - using Dummy Classifier!\n",
      "[WARNING] [2018-08-22 13:56:42,500:EnsembleBuilder(1):0a7fd6d601ab7d14a06a6cd9aaae9a1b] No models better than random - using Dummy Classifier!\n",
      "[WARNING] [2018-08-22 13:56:44,505:EnsembleBuilder(1):0a7fd6d601ab7d14a06a6cd9aaae9a1b] No models better than random - using Dummy Classifier!\n",
      "[WARNING] [2018-08-22 13:56:46,510:EnsembleBuilder(1):0a7fd6d601ab7d14a06a6cd9aaae9a1b] No models better than random - using Dummy Classifier!\n",
      "[WARNING] [2018-08-22 13:56:48,515:EnsembleBuilder(1):0a7fd6d601ab7d14a06a6cd9aaae9a1b] No models better than random - using Dummy Classifier!\n",
      "[WARNING] [2018-08-22 13:56:50,520:EnsembleBuilder(1):0a7fd6d601ab7d14a06a6cd9aaae9a1b] No models better than random - using Dummy Classifier!\n",
      "[WARNING] [2018-08-22 13:56:52,526:EnsembleBuilder(1):0a7fd6d601ab7d14a06a6cd9aaae9a1b] No models better than random - using Dummy Classifier!\n",
      "[WARNING] [2018-08-22 13:56:54,530:EnsembleBuilder(1):0a7fd6d601ab7d14a06a6cd9aaae9a1b] No models better than random - using Dummy Classifier!\n",
      "[WARNING] [2018-08-22 13:56:56,535:EnsembleBuilder(1):0a7fd6d601ab7d14a06a6cd9aaae9a1b] No models better than random - using Dummy Classifier!\n",
      "[WARNING] [2018-08-22 13:56:58,544:EnsembleBuilder(1):0a7fd6d601ab7d14a06a6cd9aaae9a1b] No models better than random - using Dummy Classifier!\n",
      "[WARNING] [2018-08-22 13:57:00,549:EnsembleBuilder(1):0a7fd6d601ab7d14a06a6cd9aaae9a1b] No models better than random - using Dummy Classifier!\n",
      "[WARNING] [2018-08-22 13:57:02,556:EnsembleBuilder(1):0a7fd6d601ab7d14a06a6cd9aaae9a1b] No models better than random - using Dummy Classifier!\n",
      "[WARNING] [2018-08-22 13:57:04,563:EnsembleBuilder(1):0a7fd6d601ab7d14a06a6cd9aaae9a1b] No models better than random - using Dummy Classifier!\n"
     ]
    },
    {
     "name": "stderr",
     "output_type": "stream",
     "text": [
      "/Users/rithika/anaconda3/envs/deep/lib/python3.6/site-packages/autosklearn/evaluation/train_evaluator.py:197: RuntimeWarning: Mean of empty slice\n",
      "  Y_train_pred = np.nanmean(Y_train_pred_full, axis=0)\n"
     ]
    },
    {
     "name": "stdout",
     "output_type": "stream",
     "text": [
      "[WARNING] [2018-08-22 13:57:06,569:EnsembleBuilder(1):0a7fd6d601ab7d14a06a6cd9aaae9a1b] No models better than random - using Dummy Classifier!\n",
      "[WARNING] [2018-08-22 13:57:08,576:EnsembleBuilder(1):0a7fd6d601ab7d14a06a6cd9aaae9a1b] No models better than random - using Dummy Classifier!\n"
     ]
    },
    {
     "name": "stderr",
     "output_type": "stream",
     "text": [
      "/Users/rithika/anaconda3/envs/deep/lib/python3.6/site-packages/autosklearn/evaluation/train_evaluator.py:197: RuntimeWarning: Mean of empty slice\n",
      "  Y_train_pred = np.nanmean(Y_train_pred_full, axis=0)\n"
     ]
    },
    {
     "name": "stdout",
     "output_type": "stream",
     "text": [
      "Test data Spearman correlation: 0.199\n",
      "Test data pearson correlation: 0.244\n",
      "MSE\n",
      "1903586.39665\n",
      "R2\n",
      "0.00733944417413\n",
      "MAE\n",
      "223.734656935\n",
      "Variance Score\n",
      "0.00859159023699\n"
     ]
    }
   ],
   "source": [
    "kf = model_selection.KFold(n_splits=5) \n",
    "kf.get_n_splits(X)\n",
    "    #print(kf)\n",
    "    #creating instance of RFRegressor \n",
    "model1 = autosklearn.regression.AutoSklearnRegressor(\n",
    "        time_left_for_this_task=120,\n",
    "        per_run_time_limit=30,\n",
    "        tmp_folder='/tmp/autosklearn_regression_example_tmp',\n",
    "        output_folder='/tmp/autosklearn_regression_example_out', \n",
    "    )\n",
    "#model1 = XGBRegressor(n_estimators=500,max_features='sqrt',n_jobs=-1,min_samples_leaf=60)#cross val split\n",
    "for train_index, test_index in kf.split(X):\n",
    "    #print('TRAIN:', train_index, 'TEST:', test_index)\n",
    "    X_train, X_test = X[train_index], X[test_index]\n",
    "    y_train, y_test = y[train_index], y[test_index]    \n",
    "#training\n",
    "model_reg = model1.fit(X_train, y_train)\n",
    "\n",
    "#evaluating\n",
    "y_pred = model1.predict(X_test)\n",
    "#monotonic relationship as the relation between the variables is non linear\n",
    "spearman = spearmanr(y_test, y_pred)\n",
    "pearson = pearsonr(y_test, y_pred)\n",
    "print(f'Test data Spearman correlation: {spearman[0]:.3}')\n",
    "print(f'Test data pearson correlation: {pearson[0]:.3}')\n",
    "print('MSE')\n",
    "print(metrics.mean_squared_error(y_test, y_pred)) #mean square error\n",
    "print('R2')\n",
    "print(metrics.r2_score(y_test, y_pred)) #r2 score\n",
    "print('MAE')\n",
    "print(metrics.mean_absolute_error(y_test, y_pred)) #mae\n",
    "print('Variance Score')\n",
    "print(metrics.explained_variance_score(y_test, y_pred)) #mape"
   ]
  },
  {
   "cell_type": "code",
   "execution_count": 25,
   "metadata": {},
   "outputs": [
    {
     "data": {
      "text/plain": [
       "{'mean_test_score': array([ 0.        , -0.72221672, -0.60320736,  0.        , -5.33345774,\n",
       "         0.03341018,  0.        ]),\n",
       " 'mean_fit_time': array([ 30.00977492,  19.44862795,   1.62761712,  30.01087308,\n",
       "          1.68943119,   1.946347  ,  19.01108503]),\n",
       " 'params': [{'categorical_encoding:__choice__': 'one_hot_encoding',\n",
       "   'imputation:strategy': 'mean',\n",
       "   'preprocessor:__choice__': 'no_preprocessing',\n",
       "   'regressor:__choice__': 'random_forest',\n",
       "   'rescaling:__choice__': 'standardize',\n",
       "   'categorical_encoding:one_hot_encoding:use_minimum_fraction': 'True',\n",
       "   'regressor:random_forest:bootstrap': 'True',\n",
       "   'regressor:random_forest:criterion': 'mse',\n",
       "   'regressor:random_forest:max_depth': 'None',\n",
       "   'regressor:random_forest:max_features': 1.0,\n",
       "   'regressor:random_forest:max_leaf_nodes': 'None',\n",
       "   'regressor:random_forest:min_impurity_decrease': 0.0,\n",
       "   'regressor:random_forest:min_samples_leaf': 1,\n",
       "   'regressor:random_forest:min_samples_split': 2,\n",
       "   'regressor:random_forest:min_weight_fraction_leaf': 0.0,\n",
       "   'regressor:random_forest:n_estimators': 100,\n",
       "   'categorical_encoding:one_hot_encoding:minimum_fraction': 0.01},\n",
       "  {'categorical_encoding:__choice__': 'one_hot_encoding',\n",
       "   'imputation:strategy': 'most_frequent',\n",
       "   'preprocessor:__choice__': 'select_percentile_regression',\n",
       "   'regressor:__choice__': 'libsvm_svr',\n",
       "   'rescaling:__choice__': 'none',\n",
       "   'categorical_encoding:one_hot_encoding:use_minimum_fraction': 'False',\n",
       "   'preprocessor:select_percentile_regression:percentile': 23.936145890799402,\n",
       "   'preprocessor:select_percentile_regression:score_func': 'f_regression',\n",
       "   'regressor:libsvm_svr:C': 1708.433433152659,\n",
       "   'regressor:libsvm_svr:epsilon': 0.24957983035356102,\n",
       "   'regressor:libsvm_svr:kernel': 'rbf',\n",
       "   'regressor:libsvm_svr:max_iter': -1,\n",
       "   'regressor:libsvm_svr:shrinking': 'False',\n",
       "   'regressor:libsvm_svr:tol': 0.00028219770217050813,\n",
       "   'regressor:libsvm_svr:degree': 2,\n",
       "   'regressor:libsvm_svr:gamma': 1.4691305652326345},\n",
       "  {'categorical_encoding:__choice__': 'one_hot_encoding',\n",
       "   'imputation:strategy': 'median',\n",
       "   'preprocessor:__choice__': 'pca',\n",
       "   'regressor:__choice__': 'decision_tree',\n",
       "   'rescaling:__choice__': 'standardize',\n",
       "   'categorical_encoding:one_hot_encoding:use_minimum_fraction': 'False',\n",
       "   'preprocessor:pca:keep_variance': 0.6910589102563758,\n",
       "   'preprocessor:pca:whiten': 'False',\n",
       "   'regressor:decision_tree:criterion': 'friedman_mse',\n",
       "   'regressor:decision_tree:max_depth': 0.5279964207035701,\n",
       "   'regressor:decision_tree:max_features': 1.0,\n",
       "   'regressor:decision_tree:max_leaf_nodes': 'None',\n",
       "   'regressor:decision_tree:min_impurity_decrease': 0.0,\n",
       "   'regressor:decision_tree:min_samples_leaf': 12,\n",
       "   'regressor:decision_tree:min_samples_split': 4,\n",
       "   'regressor:decision_tree:min_weight_fraction_leaf': 0.0},\n",
       "  {'categorical_encoding:__choice__': 'one_hot_encoding',\n",
       "   'imputation:strategy': 'median',\n",
       "   'preprocessor:__choice__': 'select_percentile_regression',\n",
       "   'regressor:__choice__': 'gaussian_process',\n",
       "   'rescaling:__choice__': 'normalize',\n",
       "   'categorical_encoding:one_hot_encoding:use_minimum_fraction': 'True',\n",
       "   'preprocessor:select_percentile_regression:percentile': 51.79102864998724,\n",
       "   'preprocessor:select_percentile_regression:score_func': 'mutual_info',\n",
       "   'regressor:gaussian_process:alpha': 6.627691036884501e-11,\n",
       "   'regressor:gaussian_process:thetaL': 2.3300519447705716e-09,\n",
       "   'regressor:gaussian_process:thetaU': 70.93000794330887,\n",
       "   'categorical_encoding:one_hot_encoding:minimum_fraction': 0.0066012968384786775},\n",
       "  {'categorical_encoding:__choice__': 'one_hot_encoding',\n",
       "   'imputation:strategy': 'mean',\n",
       "   'preprocessor:__choice__': 'kernel_pca',\n",
       "   'regressor:__choice__': 'sgd',\n",
       "   'rescaling:__choice__': 'none',\n",
       "   'categorical_encoding:one_hot_encoding:use_minimum_fraction': 'True',\n",
       "   'preprocessor:kernel_pca:kernel': 'cosine',\n",
       "   'preprocessor:kernel_pca:n_components': 205,\n",
       "   'regressor:sgd:alpha': 1.9342589279446235e-05,\n",
       "   'regressor:sgd:average': 'False',\n",
       "   'regressor:sgd:fit_intercept': 'True',\n",
       "   'regressor:sgd:learning_rate': 'optimal',\n",
       "   'regressor:sgd:loss': 'squared_loss',\n",
       "   'regressor:sgd:penalty': 'elasticnet',\n",
       "   'regressor:sgd:tol': 0.0017453117990883535,\n",
       "   'categorical_encoding:one_hot_encoding:minimum_fraction': 0.027290681063814725,\n",
       "   'regressor:sgd:l1_ratio': 5.015169496839277e-06},\n",
       "  {'categorical_encoding:__choice__': 'no_encoding',\n",
       "   'imputation:strategy': 'median',\n",
       "   'preprocessor:__choice__': 'fast_ica',\n",
       "   'regressor:__choice__': 'liblinear_svr',\n",
       "   'rescaling:__choice__': 'normalize',\n",
       "   'preprocessor:fast_ica:algorithm': 'deflation',\n",
       "   'preprocessor:fast_ica:fun': 'cube',\n",
       "   'preprocessor:fast_ica:whiten': 'True',\n",
       "   'regressor:liblinear_svr:C': 0.03582622697487416,\n",
       "   'regressor:liblinear_svr:dual': 'False',\n",
       "   'regressor:liblinear_svr:epsilon': 0.0073192289955103865,\n",
       "   'regressor:liblinear_svr:fit_intercept': 'True',\n",
       "   'regressor:liblinear_svr:intercept_scaling': 1,\n",
       "   'regressor:liblinear_svr:loss': 'squared_epsilon_insensitive',\n",
       "   'regressor:liblinear_svr:tol': 0.0013175607858941854,\n",
       "   'preprocessor:fast_ica:n_components': 119},\n",
       "  {'categorical_encoding:__choice__': 'one_hot_encoding',\n",
       "   'imputation:strategy': 'most_frequent',\n",
       "   'preprocessor:__choice__': 'fast_ica',\n",
       "   'regressor:__choice__': 'adaboost',\n",
       "   'rescaling:__choice__': 'minmax',\n",
       "   'categorical_encoding:one_hot_encoding:use_minimum_fraction': 'False',\n",
       "   'preprocessor:fast_ica:algorithm': 'deflation',\n",
       "   'preprocessor:fast_ica:fun': 'cube',\n",
       "   'preprocessor:fast_ica:whiten': 'False',\n",
       "   'regressor:adaboost:learning_rate': 0.012868557271161117,\n",
       "   'regressor:adaboost:loss': 'linear',\n",
       "   'regressor:adaboost:max_depth': 6,\n",
       "   'regressor:adaboost:n_estimators': 132}],\n",
       " 'rank_test_scores': array([2, 6, 5, 2, 7, 1, 2]),\n",
       " 'status': ['Timeout',\n",
       "  'Success',\n",
       "  'Success',\n",
       "  'Timeout',\n",
       "  'Success',\n",
       "  'Success',\n",
       "  'Timeout'],\n",
       " 'param_categorical_encoding:__choice__': masked_array(data = ['one_hot_encoding' 'one_hot_encoding' 'one_hot_encoding'\n",
       "  'one_hot_encoding' 'one_hot_encoding' 'no_encoding' 'one_hot_encoding'],\n",
       "              mask = [False False False False False False False],\n",
       "        fill_value = N/A),\n",
       " 'param_imputation:strategy': masked_array(data = ['mean' 'most_frequent' 'median' 'median' 'mean' 'median' 'most_frequent'],\n",
       "              mask = [False False False False False False False],\n",
       "        fill_value = N/A),\n",
       " 'param_preprocessor:__choice__': masked_array(data = ['no_preprocessing' 'select_percentile_regression' 'pca'\n",
       "  'select_percentile_regression' 'kernel_pca' 'fast_ica' 'fast_ica'],\n",
       "              mask = [False False False False False False False],\n",
       "        fill_value = N/A),\n",
       " 'param_regressor:__choice__': masked_array(data = ['random_forest' 'libsvm_svr' 'decision_tree' 'gaussian_process' 'sgd'\n",
       "  'liblinear_svr' 'adaboost'],\n",
       "              mask = [False False False False False False False],\n",
       "        fill_value = N/A),\n",
       " 'param_rescaling:__choice__': masked_array(data = ['standardize' 'none' 'standardize' 'normalize' 'none' 'normalize' 'minmax'],\n",
       "              mask = [False False False False False False False],\n",
       "        fill_value = N/A),\n",
       " 'param_categorical_encoding:one_hot_encoding:use_minimum_fraction': masked_array(data = ['True' 'False' 'False' 'True' 'True' -- 'False'],\n",
       "              mask = [False False False False False  True False],\n",
       "        fill_value = N/A),\n",
       " 'param_preprocessor:extra_trees_preproc_for_regression:bootstrap': masked_array(data = [-- -- -- -- -- -- --],\n",
       "              mask = [ True  True  True  True  True  True  True],\n",
       "        fill_value = 1e+20),\n",
       " 'param_preprocessor:extra_trees_preproc_for_regression:criterion': masked_array(data = [-- -- -- -- -- -- --],\n",
       "              mask = [ True  True  True  True  True  True  True],\n",
       "        fill_value = 1e+20),\n",
       " 'param_preprocessor:extra_trees_preproc_for_regression:max_depth': masked_array(data = [-- -- -- -- -- -- --],\n",
       "              mask = [ True  True  True  True  True  True  True],\n",
       "        fill_value = 1e+20),\n",
       " 'param_preprocessor:extra_trees_preproc_for_regression:max_features': masked_array(data = [-- -- -- -- -- -- --],\n",
       "              mask = [ True  True  True  True  True  True  True],\n",
       "        fill_value = 1e+20),\n",
       " 'param_preprocessor:extra_trees_preproc_for_regression:max_leaf_nodes': masked_array(data = [-- -- -- -- -- -- --],\n",
       "              mask = [ True  True  True  True  True  True  True],\n",
       "        fill_value = 1e+20),\n",
       " 'param_preprocessor:extra_trees_preproc_for_regression:min_samples_leaf': masked_array(data = [-- -- -- -- -- -- --],\n",
       "              mask = [ True  True  True  True  True  True  True],\n",
       "        fill_value = 1e+20),\n",
       " 'param_preprocessor:extra_trees_preproc_for_regression:min_samples_split': masked_array(data = [-- -- -- -- -- -- --],\n",
       "              mask = [ True  True  True  True  True  True  True],\n",
       "        fill_value = 1e+20),\n",
       " 'param_preprocessor:extra_trees_preproc_for_regression:min_weight_fraction_leaf': masked_array(data = [-- -- -- -- -- -- --],\n",
       "              mask = [ True  True  True  True  True  True  True],\n",
       "        fill_value = 1e+20),\n",
       " 'param_preprocessor:extra_trees_preproc_for_regression:n_estimators': masked_array(data = [-- -- -- -- -- -- --],\n",
       "              mask = [ True  True  True  True  True  True  True],\n",
       "        fill_value = 1e+20),\n",
       " 'param_preprocessor:fast_ica:algorithm': masked_array(data = [-- -- -- -- -- 'deflation' 'deflation'],\n",
       "              mask = [ True  True  True  True  True False False],\n",
       "        fill_value = N/A),\n",
       " 'param_preprocessor:fast_ica:fun': masked_array(data = [-- -- -- -- -- 'cube' 'cube'],\n",
       "              mask = [ True  True  True  True  True False False],\n",
       "        fill_value = N/A),\n",
       " 'param_preprocessor:fast_ica:whiten': masked_array(data = [-- -- -- -- -- 'True' 'False'],\n",
       "              mask = [ True  True  True  True  True False False],\n",
       "        fill_value = N/A),\n",
       " 'param_preprocessor:feature_agglomeration:affinity': masked_array(data = [-- -- -- -- -- -- --],\n",
       "              mask = [ True  True  True  True  True  True  True],\n",
       "        fill_value = 1e+20),\n",
       " 'param_preprocessor:feature_agglomeration:linkage': masked_array(data = [-- -- -- -- -- -- --],\n",
       "              mask = [ True  True  True  True  True  True  True],\n",
       "        fill_value = 1e+20),\n",
       " 'param_preprocessor:feature_agglomeration:n_clusters': masked_array(data = [-- -- -- -- -- -- --],\n",
       "              mask = [ True  True  True  True  True  True  True],\n",
       "        fill_value = 1e+20),\n",
       " 'param_preprocessor:feature_agglomeration:pooling_func': masked_array(data = [-- -- -- -- -- -- --],\n",
       "              mask = [ True  True  True  True  True  True  True],\n",
       "        fill_value = 1e+20),\n",
       " 'param_preprocessor:kernel_pca:kernel': masked_array(data = [-- -- -- -- 'cosine' -- --],\n",
       "              mask = [ True  True  True  True False  True  True],\n",
       "        fill_value = N/A),\n",
       " 'param_preprocessor:kernel_pca:n_components': masked_array(data = [-- -- -- -- 205.0 -- --],\n",
       "              mask = [ True  True  True  True False  True  True],\n",
       "        fill_value = 1e+20),\n",
       " 'param_preprocessor:kitchen_sinks:gamma': masked_array(data = [-- -- -- -- -- -- --],\n",
       "              mask = [ True  True  True  True  True  True  True],\n",
       "        fill_value = 1e+20),\n",
       " 'param_preprocessor:kitchen_sinks:n_components': masked_array(data = [-- -- -- -- -- -- --],\n",
       "              mask = [ True  True  True  True  True  True  True],\n",
       "        fill_value = 1e+20),\n",
       " 'param_preprocessor:nystroem_sampler:kernel': masked_array(data = [-- -- -- -- -- -- --],\n",
       "              mask = [ True  True  True  True  True  True  True],\n",
       "        fill_value = 1e+20),\n",
       " 'param_preprocessor:nystroem_sampler:n_components': masked_array(data = [-- -- -- -- -- -- --],\n",
       "              mask = [ True  True  True  True  True  True  True],\n",
       "        fill_value = 1e+20),\n",
       " 'param_preprocessor:pca:keep_variance': masked_array(data = [-- -- 0.6910589102563758 -- -- -- --],\n",
       "              mask = [ True  True False  True  True  True  True],\n",
       "        fill_value = 1e+20),\n",
       " 'param_preprocessor:pca:whiten': masked_array(data = [-- -- 'False' -- -- -- --],\n",
       "              mask = [ True  True False  True  True  True  True],\n",
       "        fill_value = N/A),\n",
       " 'param_preprocessor:polynomial:degree': masked_array(data = [-- -- -- -- -- -- --],\n",
       "              mask = [ True  True  True  True  True  True  True],\n",
       "        fill_value = 1e+20),\n",
       " 'param_preprocessor:polynomial:include_bias': masked_array(data = [-- -- -- -- -- -- --],\n",
       "              mask = [ True  True  True  True  True  True  True],\n",
       "        fill_value = 1e+20),\n",
       " 'param_preprocessor:polynomial:interaction_only': masked_array(data = [-- -- -- -- -- -- --],\n",
       "              mask = [ True  True  True  True  True  True  True],\n",
       "        fill_value = 1e+20),\n",
       " 'param_preprocessor:random_trees_embedding:bootstrap': masked_array(data = [-- -- -- -- -- -- --],\n",
       "              mask = [ True  True  True  True  True  True  True],\n",
       "        fill_value = 1e+20),\n",
       " 'param_preprocessor:random_trees_embedding:max_depth': masked_array(data = [-- -- -- -- -- -- --],\n",
       "              mask = [ True  True  True  True  True  True  True],\n",
       "        fill_value = 1e+20),\n",
       " 'param_preprocessor:random_trees_embedding:max_leaf_nodes': masked_array(data = [-- -- -- -- -- -- --],\n",
       "              mask = [ True  True  True  True  True  True  True],\n",
       "        fill_value = 1e+20),\n",
       " 'param_preprocessor:random_trees_embedding:min_samples_leaf': masked_array(data = [-- -- -- -- -- -- --],\n",
       "              mask = [ True  True  True  True  True  True  True],\n",
       "        fill_value = 1e+20),\n",
       " 'param_preprocessor:random_trees_embedding:min_samples_split': masked_array(data = [-- -- -- -- -- -- --],\n",
       "              mask = [ True  True  True  True  True  True  True],\n",
       "        fill_value = 1e+20),\n",
       " 'param_preprocessor:random_trees_embedding:min_weight_fraction_leaf': masked_array(data = [-- -- -- -- -- -- --],\n",
       "              mask = [ True  True  True  True  True  True  True],\n",
       "        fill_value = 1e+20),\n",
       " 'param_preprocessor:random_trees_embedding:n_estimators': masked_array(data = [-- -- -- -- -- -- --],\n",
       "              mask = [ True  True  True  True  True  True  True],\n",
       "        fill_value = 1e+20),\n",
       " 'param_preprocessor:select_percentile_regression:percentile': masked_array(data = [-- 23.936145890799402 -- 51.79102864998724 -- -- --],\n",
       "              mask = [ True False  True False  True  True  True],\n",
       "        fill_value = 1e+20),\n",
       " 'param_preprocessor:select_percentile_regression:score_func': masked_array(data = [-- 'f_regression' -- 'mutual_info' -- -- --],\n",
       "              mask = [ True False  True False  True  True  True],\n",
       "        fill_value = N/A),\n",
       " 'param_regressor:adaboost:learning_rate': masked_array(data = [-- -- -- -- -- -- 0.012868557271161117],\n",
       "              mask = [ True  True  True  True  True  True False],\n",
       "        fill_value = 1e+20),\n",
       " 'param_regressor:adaboost:loss': masked_array(data = [-- -- -- -- -- -- 'linear'],\n",
       "              mask = [ True  True  True  True  True  True False],\n",
       "        fill_value = N/A),\n",
       " 'param_regressor:adaboost:max_depth': masked_array(data = [-- -- -- -- -- -- 6.0],\n",
       "              mask = [ True  True  True  True  True  True False],\n",
       "        fill_value = 1e+20),\n",
       " 'param_regressor:adaboost:n_estimators': masked_array(data = [-- -- -- -- -- -- 132.0],\n",
       "              mask = [ True  True  True  True  True  True False],\n",
       "        fill_value = 1e+20),\n",
       " 'param_regressor:ard_regression:alpha_1': masked_array(data = [-- -- -- -- -- -- --],\n",
       "              mask = [ True  True  True  True  True  True  True],\n",
       "        fill_value = 1e+20),\n",
       " 'param_regressor:ard_regression:alpha_2': masked_array(data = [-- -- -- -- -- -- --],\n",
       "              mask = [ True  True  True  True  True  True  True],\n",
       "        fill_value = 1e+20),\n",
       " 'param_regressor:ard_regression:fit_intercept': masked_array(data = [-- -- -- -- -- -- --],\n",
       "              mask = [ True  True  True  True  True  True  True],\n",
       "        fill_value = 1e+20),\n",
       " 'param_regressor:ard_regression:lambda_1': masked_array(data = [-- -- -- -- -- -- --],\n",
       "              mask = [ True  True  True  True  True  True  True],\n",
       "        fill_value = 1e+20),\n",
       " 'param_regressor:ard_regression:lambda_2': masked_array(data = [-- -- -- -- -- -- --],\n",
       "              mask = [ True  True  True  True  True  True  True],\n",
       "        fill_value = 1e+20),\n",
       " 'param_regressor:ard_regression:n_iter': masked_array(data = [-- -- -- -- -- -- --],\n",
       "              mask = [ True  True  True  True  True  True  True],\n",
       "        fill_value = 1e+20),\n",
       " 'param_regressor:ard_regression:threshold_lambda': masked_array(data = [-- -- -- -- -- -- --],\n",
       "              mask = [ True  True  True  True  True  True  True],\n",
       "        fill_value = 1e+20),\n",
       " 'param_regressor:ard_regression:tol': masked_array(data = [-- -- -- -- -- -- --],\n",
       "              mask = [ True  True  True  True  True  True  True],\n",
       "        fill_value = 1e+20),\n",
       " 'param_regressor:decision_tree:criterion': masked_array(data = [-- -- 'friedman_mse' -- -- -- --],\n",
       "              mask = [ True  True False  True  True  True  True],\n",
       "        fill_value = N/A),\n",
       " 'param_regressor:decision_tree:max_depth': masked_array(data = [-- -- 0.5279964207035701 -- -- -- --],\n",
       "              mask = [ True  True False  True  True  True  True],\n",
       "        fill_value = 1e+20),\n",
       " 'param_regressor:decision_tree:max_features': masked_array(data = [-- -- 1.0 -- -- -- --],\n",
       "              mask = [ True  True False  True  True  True  True],\n",
       "        fill_value = 1e+20),\n",
       " 'param_regressor:decision_tree:max_leaf_nodes': masked_array(data = [-- -- 'None' -- -- -- --],\n",
       "              mask = [ True  True False  True  True  True  True],\n",
       "        fill_value = N/A),\n",
       " 'param_regressor:decision_tree:min_impurity_decrease': masked_array(data = [-- -- 0.0 -- -- -- --],\n",
       "              mask = [ True  True False  True  True  True  True],\n",
       "        fill_value = 1e+20),\n",
       " 'param_regressor:decision_tree:min_samples_leaf': masked_array(data = [-- -- 12.0 -- -- -- --],\n",
       "              mask = [ True  True False  True  True  True  True],\n",
       "        fill_value = 1e+20),\n",
       " 'param_regressor:decision_tree:min_samples_split': masked_array(data = [-- -- 4.0 -- -- -- --],\n",
       "              mask = [ True  True False  True  True  True  True],\n",
       "        fill_value = 1e+20),\n",
       " 'param_regressor:decision_tree:min_weight_fraction_leaf': masked_array(data = [-- -- 0.0 -- -- -- --],\n",
       "              mask = [ True  True False  True  True  True  True],\n",
       "        fill_value = 1e+20),\n",
       " 'param_regressor:extra_trees:bootstrap': masked_array(data = [-- -- -- -- -- -- --],\n",
       "              mask = [ True  True  True  True  True  True  True],\n",
       "        fill_value = 1e+20),\n",
       " 'param_regressor:extra_trees:criterion': masked_array(data = [-- -- -- -- -- -- --],\n",
       "              mask = [ True  True  True  True  True  True  True],\n",
       "        fill_value = 1e+20),\n",
       " 'param_regressor:extra_trees:max_depth': masked_array(data = [-- -- -- -- -- -- --],\n",
       "              mask = [ True  True  True  True  True  True  True],\n",
       "        fill_value = 1e+20),\n",
       " 'param_regressor:extra_trees:max_features': masked_array(data = [-- -- -- -- -- -- --],\n",
       "              mask = [ True  True  True  True  True  True  True],\n",
       "        fill_value = 1e+20),\n",
       " 'param_regressor:extra_trees:max_leaf_nodes': masked_array(data = [-- -- -- -- -- -- --],\n",
       "              mask = [ True  True  True  True  True  True  True],\n",
       "        fill_value = 1e+20),\n",
       " 'param_regressor:extra_trees:min_impurity_decrease': masked_array(data = [-- -- -- -- -- -- --],\n",
       "              mask = [ True  True  True  True  True  True  True],\n",
       "        fill_value = 1e+20),\n",
       " 'param_regressor:extra_trees:min_samples_leaf': masked_array(data = [-- -- -- -- -- -- --],\n",
       "              mask = [ True  True  True  True  True  True  True],\n",
       "        fill_value = 1e+20),\n",
       " 'param_regressor:extra_trees:min_samples_split': masked_array(data = [-- -- -- -- -- -- --],\n",
       "              mask = [ True  True  True  True  True  True  True],\n",
       "        fill_value = 1e+20),\n",
       " 'param_regressor:extra_trees:n_estimators': masked_array(data = [-- -- -- -- -- -- --],\n",
       "              mask = [ True  True  True  True  True  True  True],\n",
       "        fill_value = 1e+20),\n",
       " 'param_regressor:gaussian_process:alpha': masked_array(data = [-- -- -- 6.627691036884501e-11 -- -- --],\n",
       "              mask = [ True  True  True False  True  True  True],\n",
       "        fill_value = 1e+20),\n",
       " 'param_regressor:gaussian_process:thetaL': masked_array(data = [-- -- -- 2.3300519447705716e-09 -- -- --],\n",
       "              mask = [ True  True  True False  True  True  True],\n",
       "        fill_value = 1e+20),\n",
       " 'param_regressor:gaussian_process:thetaU': masked_array(data = [-- -- -- 70.93000794330887 -- -- --],\n",
       "              mask = [ True  True  True False  True  True  True],\n",
       "        fill_value = 1e+20),\n",
       " 'param_regressor:gradient_boosting:learning_rate': masked_array(data = [-- -- -- -- -- -- --],\n",
       "              mask = [ True  True  True  True  True  True  True],\n",
       "        fill_value = 1e+20),\n",
       " 'param_regressor:gradient_boosting:loss': masked_array(data = [-- -- -- -- -- -- --],\n",
       "              mask = [ True  True  True  True  True  True  True],\n",
       "        fill_value = 1e+20),\n",
       " 'param_regressor:gradient_boosting:max_depth': masked_array(data = [-- -- -- -- -- -- --],\n",
       "              mask = [ True  True  True  True  True  True  True],\n",
       "        fill_value = 1e+20),\n",
       " 'param_regressor:gradient_boosting:max_features': masked_array(data = [-- -- -- -- -- -- --],\n",
       "              mask = [ True  True  True  True  True  True  True],\n",
       "        fill_value = 1e+20),\n",
       " 'param_regressor:gradient_boosting:max_leaf_nodes': masked_array(data = [-- -- -- -- -- -- --],\n",
       "              mask = [ True  True  True  True  True  True  True],\n",
       "        fill_value = 1e+20),\n",
       " 'param_regressor:gradient_boosting:min_impurity_decrease': masked_array(data = [-- -- -- -- -- -- --],\n",
       "              mask = [ True  True  True  True  True  True  True],\n",
       "        fill_value = 1e+20),\n",
       " 'param_regressor:gradient_boosting:min_samples_leaf': masked_array(data = [-- -- -- -- -- -- --],\n",
       "              mask = [ True  True  True  True  True  True  True],\n",
       "        fill_value = 1e+20),\n",
       " 'param_regressor:gradient_boosting:min_samples_split': masked_array(data = [-- -- -- -- -- -- --],\n",
       "              mask = [ True  True  True  True  True  True  True],\n",
       "        fill_value = 1e+20),\n",
       " 'param_regressor:gradient_boosting:min_weight_fraction_leaf': masked_array(data = [-- -- -- -- -- -- --],\n",
       "              mask = [ True  True  True  True  True  True  True],\n",
       "        fill_value = 1e+20),\n",
       " 'param_regressor:gradient_boosting:n_estimators': masked_array(data = [-- -- -- -- -- -- --],\n",
       "              mask = [ True  True  True  True  True  True  True],\n",
       "        fill_value = 1e+20),\n",
       " 'param_regressor:gradient_boosting:subsample': masked_array(data = [-- -- -- -- -- -- --],\n",
       "              mask = [ True  True  True  True  True  True  True],\n",
       "        fill_value = 1e+20),\n",
       " 'param_regressor:k_nearest_neighbors:n_neighbors': masked_array(data = [-- -- -- -- -- -- --],\n",
       "              mask = [ True  True  True  True  True  True  True],\n",
       "        fill_value = 1e+20),\n",
       " 'param_regressor:k_nearest_neighbors:p': masked_array(data = [-- -- -- -- -- -- --],\n",
       "              mask = [ True  True  True  True  True  True  True],\n",
       "        fill_value = 1e+20),\n",
       " 'param_regressor:k_nearest_neighbors:weights': masked_array(data = [-- -- -- -- -- -- --],\n",
       "              mask = [ True  True  True  True  True  True  True],\n",
       "        fill_value = 1e+20),\n",
       " 'param_regressor:liblinear_svr:C': masked_array(data = [-- -- -- -- -- 0.03582622697487416 --],\n",
       "              mask = [ True  True  True  True  True False  True],\n",
       "        fill_value = 1e+20),\n",
       " 'param_regressor:liblinear_svr:dual': masked_array(data = [-- -- -- -- -- 'False' --],\n",
       "              mask = [ True  True  True  True  True False  True],\n",
       "        fill_value = N/A),\n",
       " 'param_regressor:liblinear_svr:epsilon': masked_array(data = [-- -- -- -- -- 0.0073192289955103865 --],\n",
       "              mask = [ True  True  True  True  True False  True],\n",
       "        fill_value = 1e+20),\n",
       " 'param_regressor:liblinear_svr:fit_intercept': masked_array(data = [-- -- -- -- -- 'True' --],\n",
       "              mask = [ True  True  True  True  True False  True],\n",
       "        fill_value = N/A),\n",
       " 'param_regressor:liblinear_svr:intercept_scaling': masked_array(data = [-- -- -- -- -- 1.0 --],\n",
       "              mask = [ True  True  True  True  True False  True],\n",
       "        fill_value = 1e+20),\n",
       " 'param_regressor:liblinear_svr:loss': masked_array(data = [-- -- -- -- -- 'squared_epsilon_insensitive' --],\n",
       "              mask = [ True  True  True  True  True False  True],\n",
       "        fill_value = N/A),\n",
       " 'param_regressor:liblinear_svr:tol': masked_array(data = [-- -- -- -- -- 0.0013175607858941854 --],\n",
       "              mask = [ True  True  True  True  True False  True],\n",
       "        fill_value = 1e+20),\n",
       " 'param_regressor:libsvm_svr:C': masked_array(data = [-- 1708.433433152659 -- -- -- -- --],\n",
       "              mask = [ True False  True  True  True  True  True],\n",
       "        fill_value = 1e+20),\n",
       " 'param_regressor:libsvm_svr:epsilon': masked_array(data = [-- 0.24957983035356102 -- -- -- -- --],\n",
       "              mask = [ True False  True  True  True  True  True],\n",
       "        fill_value = 1e+20),\n",
       " 'param_regressor:libsvm_svr:kernel': masked_array(data = [-- 'rbf' -- -- -- -- --],\n",
       "              mask = [ True False  True  True  True  True  True],\n",
       "        fill_value = N/A),\n",
       " 'param_regressor:libsvm_svr:max_iter': masked_array(data = [-- -1.0 -- -- -- -- --],\n",
       "              mask = [ True False  True  True  True  True  True],\n",
       "        fill_value = 1e+20),\n",
       " 'param_regressor:libsvm_svr:shrinking': masked_array(data = [-- 'False' -- -- -- -- --],\n",
       "              mask = [ True False  True  True  True  True  True],\n",
       "        fill_value = N/A),\n",
       " 'param_regressor:libsvm_svr:tol': masked_array(data = [-- 0.00028219770217050813 -- -- -- -- --],\n",
       "              mask = [ True False  True  True  True  True  True],\n",
       "        fill_value = 1e+20),\n",
       " 'param_regressor:random_forest:bootstrap': masked_array(data = ['True' -- -- -- -- -- --],\n",
       "              mask = [False  True  True  True  True  True  True],\n",
       "        fill_value = N/A),\n",
       " 'param_regressor:random_forest:criterion': masked_array(data = ['mse' -- -- -- -- -- --],\n",
       "              mask = [False  True  True  True  True  True  True],\n",
       "        fill_value = N/A),\n",
       " 'param_regressor:random_forest:max_depth': masked_array(data = ['None' -- -- -- -- -- --],\n",
       "              mask = [False  True  True  True  True  True  True],\n",
       "        fill_value = N/A),\n",
       " 'param_regressor:random_forest:max_features': masked_array(data = [1.0 -- -- -- -- -- --],\n",
       "              mask = [False  True  True  True  True  True  True],\n",
       "        fill_value = 1e+20),\n",
       " 'param_regressor:random_forest:max_leaf_nodes': masked_array(data = ['None' -- -- -- -- -- --],\n",
       "              mask = [False  True  True  True  True  True  True],\n",
       "        fill_value = N/A),\n",
       " 'param_regressor:random_forest:min_impurity_decrease': masked_array(data = [0.0 -- -- -- -- -- --],\n",
       "              mask = [False  True  True  True  True  True  True],\n",
       "        fill_value = 1e+20),\n",
       " 'param_regressor:random_forest:min_samples_leaf': masked_array(data = [1.0 -- -- -- -- -- --],\n",
       "              mask = [False  True  True  True  True  True  True],\n",
       "        fill_value = 1e+20),\n",
       " 'param_regressor:random_forest:min_samples_split': masked_array(data = [2.0 -- -- -- -- -- --],\n",
       "              mask = [False  True  True  True  True  True  True],\n",
       "        fill_value = 1e+20),\n",
       " 'param_regressor:random_forest:min_weight_fraction_leaf': masked_array(data = [0.0 -- -- -- -- -- --],\n",
       "              mask = [False  True  True  True  True  True  True],\n",
       "        fill_value = 1e+20),\n",
       " 'param_regressor:random_forest:n_estimators': masked_array(data = [100.0 -- -- -- -- -- --],\n",
       "              mask = [False  True  True  True  True  True  True],\n",
       "        fill_value = 1e+20),\n",
       " 'param_regressor:ridge_regression:alpha': masked_array(data = [-- -- -- -- -- -- --],\n",
       "              mask = [ True  True  True  True  True  True  True],\n",
       "        fill_value = 1e+20),\n",
       " 'param_regressor:ridge_regression:fit_intercept': masked_array(data = [-- -- -- -- -- -- --],\n",
       "              mask = [ True  True  True  True  True  True  True],\n",
       "        fill_value = 1e+20),\n",
       " 'param_regressor:ridge_regression:tol': masked_array(data = [-- -- -- -- -- -- --],\n",
       "              mask = [ True  True  True  True  True  True  True],\n",
       "        fill_value = 1e+20),\n",
       " 'param_regressor:sgd:alpha': masked_array(data = [-- -- -- -- 1.9342589279446235e-05 -- --],\n",
       "              mask = [ True  True  True  True False  True  True],\n",
       "        fill_value = 1e+20),\n",
       " 'param_regressor:sgd:average': masked_array(data = [-- -- -- -- 'False' -- --],\n",
       "              mask = [ True  True  True  True False  True  True],\n",
       "        fill_value = N/A),\n",
       " 'param_regressor:sgd:fit_intercept': masked_array(data = [-- -- -- -- 'True' -- --],\n",
       "              mask = [ True  True  True  True False  True  True],\n",
       "        fill_value = N/A),\n",
       " 'param_regressor:sgd:learning_rate': masked_array(data = [-- -- -- -- 'optimal' -- --],\n",
       "              mask = [ True  True  True  True False  True  True],\n",
       "        fill_value = N/A),\n",
       " 'param_regressor:sgd:loss': masked_array(data = [-- -- -- -- 'squared_loss' -- --],\n",
       "              mask = [ True  True  True  True False  True  True],\n",
       "        fill_value = N/A),\n",
       " 'param_regressor:sgd:penalty': masked_array(data = [-- -- -- -- 'elasticnet' -- --],\n",
       "              mask = [ True  True  True  True False  True  True],\n",
       "        fill_value = N/A),\n",
       " 'param_regressor:sgd:tol': masked_array(data = [-- -- -- -- 0.0017453117990883535 -- --],\n",
       "              mask = [ True  True  True  True False  True  True],\n",
       "        fill_value = 1e+20),\n",
       " 'param_regressor:xgradient_boosting:base_score': masked_array(data = [-- -- -- -- -- -- --],\n",
       "              mask = [ True  True  True  True  True  True  True],\n",
       "        fill_value = 1e+20),\n",
       " 'param_regressor:xgradient_boosting:booster': masked_array(data = [-- -- -- -- -- -- --],\n",
       "              mask = [ True  True  True  True  True  True  True],\n",
       "        fill_value = 1e+20),\n",
       " 'param_regressor:xgradient_boosting:colsample_bylevel': masked_array(data = [-- -- -- -- -- -- --],\n",
       "              mask = [ True  True  True  True  True  True  True],\n",
       "        fill_value = 1e+20),\n",
       " 'param_regressor:xgradient_boosting:colsample_bytree': masked_array(data = [-- -- -- -- -- -- --],\n",
       "              mask = [ True  True  True  True  True  True  True],\n",
       "        fill_value = 1e+20),\n",
       " 'param_regressor:xgradient_boosting:gamma': masked_array(data = [-- -- -- -- -- -- --],\n",
       "              mask = [ True  True  True  True  True  True  True],\n",
       "        fill_value = 1e+20),\n",
       " 'param_regressor:xgradient_boosting:learning_rate': masked_array(data = [-- -- -- -- -- -- --],\n",
       "              mask = [ True  True  True  True  True  True  True],\n",
       "        fill_value = 1e+20),\n",
       " 'param_regressor:xgradient_boosting:max_delta_step': masked_array(data = [-- -- -- -- -- -- --],\n",
       "              mask = [ True  True  True  True  True  True  True],\n",
       "        fill_value = 1e+20),\n",
       " 'param_regressor:xgradient_boosting:max_depth': masked_array(data = [-- -- -- -- -- -- --],\n",
       "              mask = [ True  True  True  True  True  True  True],\n",
       "        fill_value = 1e+20),\n",
       " 'param_regressor:xgradient_boosting:min_child_weight': masked_array(data = [-- -- -- -- -- -- --],\n",
       "              mask = [ True  True  True  True  True  True  True],\n",
       "        fill_value = 1e+20),\n",
       " 'param_regressor:xgradient_boosting:n_estimators': masked_array(data = [-- -- -- -- -- -- --],\n",
       "              mask = [ True  True  True  True  True  True  True],\n",
       "        fill_value = 1e+20),\n",
       " 'param_regressor:xgradient_boosting:reg_alpha': masked_array(data = [-- -- -- -- -- -- --],\n",
       "              mask = [ True  True  True  True  True  True  True],\n",
       "        fill_value = 1e+20),\n",
       " 'param_regressor:xgradient_boosting:reg_lambda': masked_array(data = [-- -- -- -- -- -- --],\n",
       "              mask = [ True  True  True  True  True  True  True],\n",
       "        fill_value = 1e+20),\n",
       " 'param_regressor:xgradient_boosting:scale_pos_weight': masked_array(data = [-- -- -- -- -- -- --],\n",
       "              mask = [ True  True  True  True  True  True  True],\n",
       "        fill_value = 1e+20),\n",
       " 'param_regressor:xgradient_boosting:subsample': masked_array(data = [-- -- -- -- -- -- --],\n",
       "              mask = [ True  True  True  True  True  True  True],\n",
       "        fill_value = 1e+20),\n",
       " 'param_rescaling:quantile_transformer:n_quantiles': masked_array(data = [-- -- -- -- -- -- --],\n",
       "              mask = [ True  True  True  True  True  True  True],\n",
       "        fill_value = 1e+20),\n",
       " 'param_rescaling:quantile_transformer:output_distribution': masked_array(data = [-- -- -- -- -- -- --],\n",
       "              mask = [ True  True  True  True  True  True  True],\n",
       "        fill_value = 1e+20),\n",
       " 'param_rescaling:robust_scaler:q_max': masked_array(data = [-- -- -- -- -- -- --],\n",
       "              mask = [ True  True  True  True  True  True  True],\n",
       "        fill_value = 1e+20),\n",
       " 'param_rescaling:robust_scaler:q_min': masked_array(data = [-- -- -- -- -- -- --],\n",
       "              mask = [ True  True  True  True  True  True  True],\n",
       "        fill_value = 1e+20),\n",
       " 'param_categorical_encoding:one_hot_encoding:minimum_fraction': masked_array(data = [0.01 -- -- 0.0066012968384786775 0.027290681063814725 -- --],\n",
       "              mask = [False  True  True False False  True  True],\n",
       "        fill_value = 1e+20),\n",
       " 'param_preprocessor:fast_ica:n_components': masked_array(data = [-- -- -- -- -- 119.0 --],\n",
       "              mask = [ True  True  True  True  True False  True],\n",
       "        fill_value = 1e+20),\n",
       " 'param_preprocessor:kernel_pca:coef0': masked_array(data = [-- -- -- -- -- -- --],\n",
       "              mask = [ True  True  True  True  True  True  True],\n",
       "        fill_value = 1e+20),\n",
       " 'param_preprocessor:kernel_pca:degree': masked_array(data = [-- -- -- -- -- -- --],\n",
       "              mask = [ True  True  True  True  True  True  True],\n",
       "        fill_value = 1e+20),\n",
       " 'param_preprocessor:kernel_pca:gamma': masked_array(data = [-- -- -- -- -- -- --],\n",
       "              mask = [ True  True  True  True  True  True  True],\n",
       "        fill_value = 1e+20),\n",
       " 'param_preprocessor:nystroem_sampler:coef0': masked_array(data = [-- -- -- -- -- -- --],\n",
       "              mask = [ True  True  True  True  True  True  True],\n",
       "        fill_value = 1e+20),\n",
       " 'param_preprocessor:nystroem_sampler:degree': masked_array(data = [-- -- -- -- -- -- --],\n",
       "              mask = [ True  True  True  True  True  True  True],\n",
       "        fill_value = 1e+20),\n",
       " 'param_preprocessor:nystroem_sampler:gamma': masked_array(data = [-- -- -- -- -- -- --],\n",
       "              mask = [ True  True  True  True  True  True  True],\n",
       "        fill_value = 1e+20),\n",
       " 'param_regressor:gradient_boosting:alpha': masked_array(data = [-- -- -- -- -- -- --],\n",
       "              mask = [ True  True  True  True  True  True  True],\n",
       "        fill_value = 1e+20),\n",
       " 'param_regressor:libsvm_svr:coef0': masked_array(data = [-- -- -- -- -- -- --],\n",
       "              mask = [ True  True  True  True  True  True  True],\n",
       "        fill_value = 1e+20),\n",
       " 'param_regressor:libsvm_svr:degree': masked_array(data = [-- 2.0 -- -- -- -- --],\n",
       "              mask = [ True False  True  True  True  True  True],\n",
       "        fill_value = 1e+20),\n",
       " 'param_regressor:libsvm_svr:gamma': masked_array(data = [-- 1.4691305652326345 -- -- -- -- --],\n",
       "              mask = [ True False  True  True  True  True  True],\n",
       "        fill_value = 1e+20),\n",
       " 'param_regressor:sgd:epsilon': masked_array(data = [-- -- -- -- -- -- --],\n",
       "              mask = [ True  True  True  True  True  True  True],\n",
       "        fill_value = 1e+20),\n",
       " 'param_regressor:sgd:eta0': masked_array(data = [-- -- -- -- -- -- --],\n",
       "              mask = [ True  True  True  True  True  True  True],\n",
       "        fill_value = 1e+20),\n",
       " 'param_regressor:sgd:l1_ratio': masked_array(data = [-- -- -- -- 5.015169496839277e-06 -- --],\n",
       "              mask = [ True  True  True  True False  True  True],\n",
       "        fill_value = 1e+20),\n",
       " 'param_regressor:sgd:power_t': masked_array(data = [-- -- -- -- -- -- --],\n",
       "              mask = [ True  True  True  True  True  True  True],\n",
       "        fill_value = 1e+20),\n",
       " 'param_regressor:xgradient_boosting:normalize_type': masked_array(data = [-- -- -- -- -- -- --],\n",
       "              mask = [ True  True  True  True  True  True  True],\n",
       "        fill_value = 1e+20),\n",
       " 'param_regressor:xgradient_boosting:rate_drop': masked_array(data = [-- -- -- -- -- -- --],\n",
       "              mask = [ True  True  True  True  True  True  True],\n",
       "        fill_value = 1e+20),\n",
       " 'param_regressor:xgradient_boosting:sample_type': masked_array(data = [-- -- -- -- -- -- --],\n",
       "              mask = [ True  True  True  True  True  True  True],\n",
       "        fill_value = 1e+20)}"
      ]
     },
     "execution_count": 25,
     "metadata": {},
     "output_type": "execute_result"
    }
   ],
   "source": [
    "model_reg.cv_results_"
   ]
  },
  {
   "cell_type": "code",
   "execution_count": 27,
   "metadata": {},
   "outputs": [
    {
     "data": {
      "text/plain": [
       "\"[(1.000000, SimpleRegressionPipeline({'categorical_encoding:__choice__': 'no_encoding', 'imputation:strategy': 'median', 'preprocessor:__choice__': 'fast_ica', 'regressor:__choice__': 'liblinear_svr', 'rescaling:__choice__': 'normalize', 'preprocessor:fast_ica:algorithm': 'deflation', 'preprocessor:fast_ica:fun': 'cube', 'preprocessor:fast_ica:whiten': 'True', 'regressor:liblinear_svr:C': 0.03582622697487416, 'regressor:liblinear_svr:dual': 'False', 'regressor:liblinear_svr:epsilon': 0.0073192289955103865, 'regressor:liblinear_svr:fit_intercept': 'True', 'regressor:liblinear_svr:intercept_scaling': 1, 'regressor:liblinear_svr:loss': 'squared_epsilon_insensitive', 'regressor:liblinear_svr:tol': 0.0013175607858941854, 'preprocessor:fast_ica:n_components': 119},\\ndataset_properties={\\n  'task': 4,\\n  'sparse': False,\\n  'multilabel': False,\\n  'multiclass': False,\\n  'target_type': 'regression',\\n  'signed': False})),\\n]\""
      ]
     },
     "execution_count": 27,
     "metadata": {},
     "output_type": "execute_result"
    }
   ],
   "source": [
    "model_reg.show_models()"
   ]
  },
  {
   "cell_type": "markdown",
   "metadata": {},
   "source": [
    "# Unseen data"
   ]
  },
  {
   "cell_type": "code",
   "execution_count": 223,
   "metadata": {},
   "outputs": [],
   "source": [
    "unseen_data = ['serenata flower uk free flower gift delivery order pm weekday pm weekend free next day delivery day wk']\n",
    "unseen_data1 = ['free flower gift delivery serenata flower uk order pm weekday pm weekend free next day delivery day wk']\n"
   ]
  },
  {
   "cell_type": "code",
   "execution_count": 224,
   "metadata": {},
   "outputs": [
    {
     "name": "stdout",
     "output_type": "stream",
     "text": [
      "[0.12315510593722102]\n",
      "[0.1191602826834383]\n"
     ]
    }
   ],
   "source": [
    "new_v = infersent.encode(unseen_data, tokenize=False)\n",
    "pred = model_reg.predict(new_v)\n",
    "print(pred.tolist())\n",
    "new_v1 = infersent.encode(unseen_data1, tokenize=False)\n",
    "pred1 = model_reg.predict(new_v1)\n",
    "print(pred1.tolist())"
   ]
  },
  {
   "cell_type": "code",
   "execution_count": 225,
   "metadata": {},
   "outputs": [],
   "source": [
    "unseen_data = ['flower delivery free day week year around order pm free next day delivery uk best reviewed online florist']\n",
    "unseen_data1 = ['flower delivery costless day week year around order pm free next day delivery uk best reviewed online florist']\n"
   ]
  },
  {
   "cell_type": "code",
   "execution_count": 226,
   "metadata": {},
   "outputs": [
    {
     "name": "stdout",
     "output_type": "stream",
     "text": [
      "[0.09888561200462491]\n",
      "[0.10159159526953461]\n"
     ]
    }
   ],
   "source": [
    "new_v = infersent.encode(unseen_data, tokenize=False)\n",
    "pred = model_reg.predict(new_v)\n",
    "print(pred.tolist())\n",
    "new_v1 = infersent.encode(unseen_data1, tokenize=False)\n",
    "pred1 = model_reg.predict(new_v1)\n",
    "print(pred1.tolist())"
   ]
  },
  {
   "cell_type": "code",
   "execution_count": 227,
   "metadata": {},
   "outputs": [],
   "source": [
    "unseen_data = ['serenata flowers uk top reviewed uk online flower order pm weekday pm weekend free next day delivery']\n",
    "unseen_data1 = ['top reviewed uk online flower serenata flowers uk order pm weekday pm weekend free next day delivery']\n"
   ]
  },
  {
   "cell_type": "code",
   "execution_count": 228,
   "metadata": {},
   "outputs": [
    {
     "name": "stdout",
     "output_type": "stream",
     "text": [
      "[0.11310536117895052]\n",
      "[0.11783531540165926]\n"
     ]
    }
   ],
   "source": [
    "new_v = infersent.encode(unseen_data, tokenize=False)\n",
    "pred = model_reg.predict(new_v)\n",
    "print(pred.tolist())\n",
    "new_v1 = infersent.encode(unseen_data1, tokenize=False)\n",
    "pred1 = model_reg.predict(new_v1)\n",
    "print(pred1.tolist())"
   ]
  },
  {
   "cell_type": "code",
   "execution_count": 229,
   "metadata": {},
   "outputs": [],
   "source": [
    "unseen_data = ['free next day flower delivery day wk including sunday order pm weekday pm weekend free next day delivery']\n",
    "unseen_data1 = ['next day flower delivery free day wk including sunday order pm weekday pm weekend free next day delivery']\n"
   ]
  },
  {
   "cell_type": "code",
   "execution_count": 230,
   "metadata": {},
   "outputs": [
    {
     "name": "stdout",
     "output_type": "stream",
     "text": [
      "[0.11566598563481041]\n",
      "[0.11614226350752684]\n"
     ]
    }
   ],
   "source": [
    "new_v = infersent.encode(unseen_data, tokenize=False)\n",
    "pred = model_reg.predict(new_v)\n",
    "print(pred.tolist())\n",
    "new_v1 = infersent.encode(unseen_data1, tokenize=False)\n",
    "pred1 = model_reg.predict(new_v1)\n",
    "print(pred1.tolist())"
   ]
  },
  {
   "cell_type": "code",
   "execution_count": 231,
   "metadata": {},
   "outputs": [],
   "source": [
    "unseen_data = ['serenata flower uk free flower gift delivery order pm weekday pm weekend free next day delivery day wk']\n",
    "unseen_data1 = ['free flower gift delivery serenata flower uk buy pm weekday pm weekend free next day delivery day wk']\n"
   ]
  },
  {
   "cell_type": "code",
   "execution_count": 232,
   "metadata": {},
   "outputs": [
    {
     "name": "stdout",
     "output_type": "stream",
     "text": [
      "[0.12315510593722101]\n",
      "[0.12047514624688242]\n"
     ]
    }
   ],
   "source": [
    "new_v = infersent.encode(unseen_data, tokenize=False)\n",
    "pred = model_reg.predict(new_v)\n",
    "print(pred.tolist())\n",
    "new_v1 = infersent.encode(unseen_data1, tokenize=False)\n",
    "pred1 = model_reg.predict(new_v1)\n",
    "print(pred1.tolist())"
   ]
  },
  {
   "cell_type": "code",
   "execution_count": 233,
   "metadata": {},
   "outputs": [],
   "source": [
    "unseen_data = ['flower uk free flower delivery day wk order pm free next day delivery uk best reviewed online florist']\n",
    "unseen_data1 = ['flower united kingdom free flower delivery day wk order pm free next day delivery uk best reviewed online florist']  \n"
   ]
  },
  {
   "cell_type": "code",
   "execution_count": 234,
   "metadata": {},
   "outputs": [
    {
     "name": "stdout",
     "output_type": "stream",
     "text": [
      "[0.11250085054271129]\n",
      "[0.1236058772481419]\n"
     ]
    }
   ],
   "source": [
    "new_v = infersent.encode(unseen_data, tokenize=False)\n",
    "pred = model_reg.predict(new_v)\n",
    "print(pred.tolist())\n",
    "new_v1 = infersent.encode(unseen_data1, tokenize=False)\n",
    "pred1 = model_reg.predict(new_v1)\n",
    "print(pred1.tolist())"
   ]
  },
  {
   "cell_type": "code",
   "execution_count": 235,
   "metadata": {},
   "outputs": [],
   "source": [
    "unseen_data = ['flower delivery free day week week year order pm weekday pm sun pm sat free next day delivery']\n",
    "unseen_data1 = ['complimentary flower delivery day week week year free next day delivery buy pm weekday pm sun pm sat']\n"
   ]
  },
  {
   "cell_type": "code",
   "execution_count": 236,
   "metadata": {},
   "outputs": [
    {
     "name": "stdout",
     "output_type": "stream",
     "text": [
      "[0.11881344865407327]\n",
      "[0.13275670325946537]\n"
     ]
    }
   ],
   "source": [
    "new_v = infersent.encode(unseen_data, tokenize=False)\n",
    "pred = model_reg.predict(new_v)\n",
    "print(pred.tolist())\n",
    "new_v1 = infersent.encode(unseen_data1, tokenize=False)\n",
    "pred1 = model_reg.predict(new_v1)\n",
    "print(pred1.tolist())"
   ]
  },
  {
   "cell_type": "code",
   "execution_count": 237,
   "metadata": {},
   "outputs": [],
   "source": [
    "unseen_data = ['free next day flower delivery day per week incl sunday order pm weekday pm weekend free next day flower delivery uk'] \n",
    "unseen_data1 = ['free next day flower delivery day per week incl weekend order pm weekday pm weekend free next day flower delivery uk']"
   ]
  },
  {
   "cell_type": "code",
   "execution_count": 238,
   "metadata": {},
   "outputs": [
    {
     "name": "stdout",
     "output_type": "stream",
     "text": [
      "[0.13085728985341927]\n",
      "[0.12997964172876414]\n"
     ]
    }
   ],
   "source": [
    "new_v = infersent.encode(unseen_data, tokenize=False)\n",
    "pred = model_reg.predict(new_v)\n",
    "print(pred.tolist())\n",
    "new_v1 = infersent.encode(unseen_data1, tokenize=False)\n",
    "pred1 = model_reg.predict(new_v1)\n",
    "print(pred1.tolist())"
   ]
  }
 ],
 "metadata": {
  "kernelspec": {
   "display_name": "Python 3",
   "language": "python",
   "name": "python3"
  },
  "language_info": {
   "codemirror_mode": {
    "name": "ipython",
    "version": 3
   },
   "file_extension": ".py",
   "mimetype": "text/x-python",
   "name": "python",
   "nbconvert_exporter": "python",
   "pygments_lexer": "ipython3",
   "version": "3.6.5"
  }
 },
 "nbformat": 4,
 "nbformat_minor": 2
}
